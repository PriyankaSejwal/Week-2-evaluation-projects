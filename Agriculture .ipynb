{
 "cells": [
  {
   "cell_type": "code",
   "execution_count": 1,
   "metadata": {},
   "outputs": [],
   "source": [
    "import pandas as pd\n",
    "import numpy as np\n",
    "import seaborn as sns\n",
    "import matplotlib.pyplot as plt\n",
    "import warnings\n",
    "warnings.filterwarnings('ignore')"
   ]
  },
  {
   "cell_type": "code",
   "execution_count": 2,
   "metadata": {},
   "outputs": [],
   "source": [
    "data=pd.read_excel('train_agriculture.xlsx')"
   ]
  },
  {
   "cell_type": "code",
   "execution_count": 3,
   "metadata": {},
   "outputs": [
    {
     "data": {
      "text/html": [
       "<div>\n",
       "<style scoped>\n",
       "    .dataframe tbody tr th:only-of-type {\n",
       "        vertical-align: middle;\n",
       "    }\n",
       "\n",
       "    .dataframe tbody tr th {\n",
       "        vertical-align: top;\n",
       "    }\n",
       "\n",
       "    .dataframe thead th {\n",
       "        text-align: right;\n",
       "    }\n",
       "</style>\n",
       "<table border=\"1\" class=\"dataframe\">\n",
       "  <thead>\n",
       "    <tr style=\"text-align: right;\">\n",
       "      <th></th>\n",
       "      <th>ID</th>\n",
       "      <th>Estimated_Insects_Count</th>\n",
       "      <th>Crop_Type</th>\n",
       "      <th>Soil_Type</th>\n",
       "      <th>Pesticide_Use_Category</th>\n",
       "      <th>Number_Doses_Week</th>\n",
       "      <th>Number_Weeks_Used</th>\n",
       "      <th>Number_Weeks_Quit</th>\n",
       "      <th>Season</th>\n",
       "      <th>Crop_Damage</th>\n",
       "    </tr>\n",
       "  </thead>\n",
       "  <tbody>\n",
       "    <tr>\n",
       "      <th>0</th>\n",
       "      <td>F00000001</td>\n",
       "      <td>188</td>\n",
       "      <td>1</td>\n",
       "      <td>0</td>\n",
       "      <td>1</td>\n",
       "      <td>0</td>\n",
       "      <td>0.0</td>\n",
       "      <td>0</td>\n",
       "      <td>1</td>\n",
       "      <td>0</td>\n",
       "    </tr>\n",
       "    <tr>\n",
       "      <th>1</th>\n",
       "      <td>F00000003</td>\n",
       "      <td>209</td>\n",
       "      <td>1</td>\n",
       "      <td>0</td>\n",
       "      <td>1</td>\n",
       "      <td>0</td>\n",
       "      <td>0.0</td>\n",
       "      <td>0</td>\n",
       "      <td>2</td>\n",
       "      <td>1</td>\n",
       "    </tr>\n",
       "    <tr>\n",
       "      <th>2</th>\n",
       "      <td>F00000004</td>\n",
       "      <td>257</td>\n",
       "      <td>1</td>\n",
       "      <td>0</td>\n",
       "      <td>1</td>\n",
       "      <td>0</td>\n",
       "      <td>0.0</td>\n",
       "      <td>0</td>\n",
       "      <td>2</td>\n",
       "      <td>1</td>\n",
       "    </tr>\n",
       "    <tr>\n",
       "      <th>3</th>\n",
       "      <td>F00000005</td>\n",
       "      <td>257</td>\n",
       "      <td>1</td>\n",
       "      <td>1</td>\n",
       "      <td>1</td>\n",
       "      <td>0</td>\n",
       "      <td>0.0</td>\n",
       "      <td>0</td>\n",
       "      <td>2</td>\n",
       "      <td>1</td>\n",
       "    </tr>\n",
       "    <tr>\n",
       "      <th>4</th>\n",
       "      <td>F00000006</td>\n",
       "      <td>342</td>\n",
       "      <td>1</td>\n",
       "      <td>0</td>\n",
       "      <td>1</td>\n",
       "      <td>0</td>\n",
       "      <td>0.0</td>\n",
       "      <td>0</td>\n",
       "      <td>2</td>\n",
       "      <td>1</td>\n",
       "    </tr>\n",
       "    <tr>\n",
       "      <th>...</th>\n",
       "      <td>...</td>\n",
       "      <td>...</td>\n",
       "      <td>...</td>\n",
       "      <td>...</td>\n",
       "      <td>...</td>\n",
       "      <td>...</td>\n",
       "      <td>...</td>\n",
       "      <td>...</td>\n",
       "      <td>...</td>\n",
       "      <td>...</td>\n",
       "    </tr>\n",
       "    <tr>\n",
       "      <th>4594</th>\n",
       "      <td>F00008078</td>\n",
       "      <td>2138</td>\n",
       "      <td>0</td>\n",
       "      <td>1</td>\n",
       "      <td>2</td>\n",
       "      <td>20</td>\n",
       "      <td>NaN</td>\n",
       "      <td>1</td>\n",
       "      <td>1</td>\n",
       "      <td>1</td>\n",
       "    </tr>\n",
       "    <tr>\n",
       "      <th>4595</th>\n",
       "      <td>F00008079</td>\n",
       "      <td>2139</td>\n",
       "      <td>0</td>\n",
       "      <td>1</td>\n",
       "      <td>2</td>\n",
       "      <td>30</td>\n",
       "      <td>47.0</td>\n",
       "      <td>2</td>\n",
       "      <td>1</td>\n",
       "      <td>1</td>\n",
       "    </tr>\n",
       "    <tr>\n",
       "      <th>4596</th>\n",
       "      <td>F00008080</td>\n",
       "      <td>2267</td>\n",
       "      <td>0</td>\n",
       "      <td>1</td>\n",
       "      <td>2</td>\n",
       "      <td>10</td>\n",
       "      <td>7.0</td>\n",
       "      <td>27</td>\n",
       "      <td>2</td>\n",
       "      <td>0</td>\n",
       "    </tr>\n",
       "    <tr>\n",
       "      <th>4597</th>\n",
       "      <td>F00008082</td>\n",
       "      <td>2267</td>\n",
       "      <td>0</td>\n",
       "      <td>1</td>\n",
       "      <td>2</td>\n",
       "      <td>10</td>\n",
       "      <td>20.0</td>\n",
       "      <td>24</td>\n",
       "      <td>2</td>\n",
       "      <td>0</td>\n",
       "    </tr>\n",
       "    <tr>\n",
       "      <th>4598</th>\n",
       "      <td>F00008083</td>\n",
       "      <td>2267</td>\n",
       "      <td>0</td>\n",
       "      <td>1</td>\n",
       "      <td>2</td>\n",
       "      <td>10</td>\n",
       "      <td>33.0</td>\n",
       "      <td>17</td>\n",
       "      <td>2</td>\n",
       "      <td>0</td>\n",
       "    </tr>\n",
       "  </tbody>\n",
       "</table>\n",
       "<p>4599 rows × 10 columns</p>\n",
       "</div>"
      ],
      "text/plain": [
       "             ID  Estimated_Insects_Count  Crop_Type  Soil_Type  \\\n",
       "0     F00000001                      188          1          0   \n",
       "1     F00000003                      209          1          0   \n",
       "2     F00000004                      257          1          0   \n",
       "3     F00000005                      257          1          1   \n",
       "4     F00000006                      342          1          0   \n",
       "...         ...                      ...        ...        ...   \n",
       "4594  F00008078                     2138          0          1   \n",
       "4595  F00008079                     2139          0          1   \n",
       "4596  F00008080                     2267          0          1   \n",
       "4597  F00008082                     2267          0          1   \n",
       "4598  F00008083                     2267          0          1   \n",
       "\n",
       "      Pesticide_Use_Category  Number_Doses_Week  Number_Weeks_Used  \\\n",
       "0                          1                  0                0.0   \n",
       "1                          1                  0                0.0   \n",
       "2                          1                  0                0.0   \n",
       "3                          1                  0                0.0   \n",
       "4                          1                  0                0.0   \n",
       "...                      ...                ...                ...   \n",
       "4594                       2                 20                NaN   \n",
       "4595                       2                 30               47.0   \n",
       "4596                       2                 10                7.0   \n",
       "4597                       2                 10               20.0   \n",
       "4598                       2                 10               33.0   \n",
       "\n",
       "      Number_Weeks_Quit  Season  Crop_Damage  \n",
       "0                     0       1            0  \n",
       "1                     0       2            1  \n",
       "2                     0       2            1  \n",
       "3                     0       2            1  \n",
       "4                     0       2            1  \n",
       "...                 ...     ...          ...  \n",
       "4594                  1       1            1  \n",
       "4595                  2       1            1  \n",
       "4596                 27       2            0  \n",
       "4597                 24       2            0  \n",
       "4598                 17       2            0  \n",
       "\n",
       "[4599 rows x 10 columns]"
      ]
     },
     "execution_count": 3,
     "metadata": {},
     "output_type": "execute_result"
    }
   ],
   "source": [
    "data"
   ]
  },
  {
   "cell_type": "code",
   "execution_count": 4,
   "metadata": {},
   "outputs": [
    {
     "data": {
      "text/html": [
       "<div>\n",
       "<style scoped>\n",
       "    .dataframe tbody tr th:only-of-type {\n",
       "        vertical-align: middle;\n",
       "    }\n",
       "\n",
       "    .dataframe tbody tr th {\n",
       "        vertical-align: top;\n",
       "    }\n",
       "\n",
       "    .dataframe thead th {\n",
       "        text-align: right;\n",
       "    }\n",
       "</style>\n",
       "<table border=\"1\" class=\"dataframe\">\n",
       "  <thead>\n",
       "    <tr style=\"text-align: right;\">\n",
       "      <th></th>\n",
       "      <th>ID</th>\n",
       "      <th>Estimated_Insects_Count</th>\n",
       "      <th>Crop_Type</th>\n",
       "      <th>Soil_Type</th>\n",
       "      <th>Pesticide_Use_Category</th>\n",
       "      <th>Number_Doses_Week</th>\n",
       "      <th>Number_Weeks_Used</th>\n",
       "      <th>Number_Weeks_Quit</th>\n",
       "      <th>Season</th>\n",
       "      <th>Crop_Damage</th>\n",
       "    </tr>\n",
       "  </thead>\n",
       "  <tbody>\n",
       "    <tr>\n",
       "      <th>0</th>\n",
       "      <td>F00000001</td>\n",
       "      <td>188</td>\n",
       "      <td>1</td>\n",
       "      <td>0</td>\n",
       "      <td>1</td>\n",
       "      <td>0</td>\n",
       "      <td>0.0</td>\n",
       "      <td>0</td>\n",
       "      <td>1</td>\n",
       "      <td>0</td>\n",
       "    </tr>\n",
       "    <tr>\n",
       "      <th>1</th>\n",
       "      <td>F00000003</td>\n",
       "      <td>209</td>\n",
       "      <td>1</td>\n",
       "      <td>0</td>\n",
       "      <td>1</td>\n",
       "      <td>0</td>\n",
       "      <td>0.0</td>\n",
       "      <td>0</td>\n",
       "      <td>2</td>\n",
       "      <td>1</td>\n",
       "    </tr>\n",
       "    <tr>\n",
       "      <th>2</th>\n",
       "      <td>F00000004</td>\n",
       "      <td>257</td>\n",
       "      <td>1</td>\n",
       "      <td>0</td>\n",
       "      <td>1</td>\n",
       "      <td>0</td>\n",
       "      <td>0.0</td>\n",
       "      <td>0</td>\n",
       "      <td>2</td>\n",
       "      <td>1</td>\n",
       "    </tr>\n",
       "    <tr>\n",
       "      <th>3</th>\n",
       "      <td>F00000005</td>\n",
       "      <td>257</td>\n",
       "      <td>1</td>\n",
       "      <td>1</td>\n",
       "      <td>1</td>\n",
       "      <td>0</td>\n",
       "      <td>0.0</td>\n",
       "      <td>0</td>\n",
       "      <td>2</td>\n",
       "      <td>1</td>\n",
       "    </tr>\n",
       "    <tr>\n",
       "      <th>4</th>\n",
       "      <td>F00000006</td>\n",
       "      <td>342</td>\n",
       "      <td>1</td>\n",
       "      <td>0</td>\n",
       "      <td>1</td>\n",
       "      <td>0</td>\n",
       "      <td>0.0</td>\n",
       "      <td>0</td>\n",
       "      <td>2</td>\n",
       "      <td>1</td>\n",
       "    </tr>\n",
       "    <tr>\n",
       "      <th>5</th>\n",
       "      <td>F00000008</td>\n",
       "      <td>448</td>\n",
       "      <td>0</td>\n",
       "      <td>1</td>\n",
       "      <td>1</td>\n",
       "      <td>0</td>\n",
       "      <td>NaN</td>\n",
       "      <td>0</td>\n",
       "      <td>2</td>\n",
       "      <td>1</td>\n",
       "    </tr>\n",
       "    <tr>\n",
       "      <th>6</th>\n",
       "      <td>F00000009</td>\n",
       "      <td>448</td>\n",
       "      <td>0</td>\n",
       "      <td>1</td>\n",
       "      <td>1</td>\n",
       "      <td>0</td>\n",
       "      <td>NaN</td>\n",
       "      <td>0</td>\n",
       "      <td>2</td>\n",
       "      <td>1</td>\n",
       "    </tr>\n",
       "    <tr>\n",
       "      <th>7</th>\n",
       "      <td>F00000010</td>\n",
       "      <td>577</td>\n",
       "      <td>1</td>\n",
       "      <td>0</td>\n",
       "      <td>1</td>\n",
       "      <td>0</td>\n",
       "      <td>0.0</td>\n",
       "      <td>0</td>\n",
       "      <td>1</td>\n",
       "      <td>2</td>\n",
       "    </tr>\n",
       "    <tr>\n",
       "      <th>8</th>\n",
       "      <td>F00000012</td>\n",
       "      <td>731</td>\n",
       "      <td>0</td>\n",
       "      <td>0</td>\n",
       "      <td>1</td>\n",
       "      <td>0</td>\n",
       "      <td>0.0</td>\n",
       "      <td>0</td>\n",
       "      <td>2</td>\n",
       "      <td>0</td>\n",
       "    </tr>\n",
       "    <tr>\n",
       "      <th>9</th>\n",
       "      <td>F00000020</td>\n",
       "      <td>1132</td>\n",
       "      <td>1</td>\n",
       "      <td>0</td>\n",
       "      <td>1</td>\n",
       "      <td>0</td>\n",
       "      <td>0.0</td>\n",
       "      <td>0</td>\n",
       "      <td>1</td>\n",
       "      <td>2</td>\n",
       "    </tr>\n",
       "  </tbody>\n",
       "</table>\n",
       "</div>"
      ],
      "text/plain": [
       "          ID  Estimated_Insects_Count  Crop_Type  Soil_Type  \\\n",
       "0  F00000001                      188          1          0   \n",
       "1  F00000003                      209          1          0   \n",
       "2  F00000004                      257          1          0   \n",
       "3  F00000005                      257          1          1   \n",
       "4  F00000006                      342          1          0   \n",
       "5  F00000008                      448          0          1   \n",
       "6  F00000009                      448          0          1   \n",
       "7  F00000010                      577          1          0   \n",
       "8  F00000012                      731          0          0   \n",
       "9  F00000020                     1132          1          0   \n",
       "\n",
       "   Pesticide_Use_Category  Number_Doses_Week  Number_Weeks_Used  \\\n",
       "0                       1                  0                0.0   \n",
       "1                       1                  0                0.0   \n",
       "2                       1                  0                0.0   \n",
       "3                       1                  0                0.0   \n",
       "4                       1                  0                0.0   \n",
       "5                       1                  0                NaN   \n",
       "6                       1                  0                NaN   \n",
       "7                       1                  0                0.0   \n",
       "8                       1                  0                0.0   \n",
       "9                       1                  0                0.0   \n",
       "\n",
       "   Number_Weeks_Quit  Season  Crop_Damage  \n",
       "0                  0       1            0  \n",
       "1                  0       2            1  \n",
       "2                  0       2            1  \n",
       "3                  0       2            1  \n",
       "4                  0       2            1  \n",
       "5                  0       2            1  \n",
       "6                  0       2            1  \n",
       "7                  0       1            2  \n",
       "8                  0       2            0  \n",
       "9                  0       1            2  "
      ]
     },
     "execution_count": 4,
     "metadata": {},
     "output_type": "execute_result"
    }
   ],
   "source": [
    "data.head(10)"
   ]
  },
  {
   "cell_type": "code",
   "execution_count": 5,
   "metadata": {},
   "outputs": [
    {
     "data": {
      "text/plain": [
       "(4599, 10)"
      ]
     },
     "execution_count": 5,
     "metadata": {},
     "output_type": "execute_result"
    }
   ],
   "source": [
    "data.shape"
   ]
  },
  {
   "cell_type": "code",
   "execution_count": 6,
   "metadata": {},
   "outputs": [
    {
     "name": "stdout",
     "output_type": "stream",
     "text": [
      "<class 'pandas.core.frame.DataFrame'>\n",
      "RangeIndex: 4599 entries, 0 to 4598\n",
      "Data columns (total 10 columns):\n",
      " #   Column                   Non-Null Count  Dtype  \n",
      "---  ------                   --------------  -----  \n",
      " 0   ID                       4599 non-null   object \n",
      " 1   Estimated_Insects_Count  4599 non-null   int64  \n",
      " 2   Crop_Type                4599 non-null   int64  \n",
      " 3   Soil_Type                4599 non-null   int64  \n",
      " 4   Pesticide_Use_Category   4599 non-null   int64  \n",
      " 5   Number_Doses_Week        4599 non-null   int64  \n",
      " 6   Number_Weeks_Used        4157 non-null   float64\n",
      " 7   Number_Weeks_Quit        4599 non-null   int64  \n",
      " 8   Season                   4599 non-null   int64  \n",
      " 9   Crop_Damage              4599 non-null   int64  \n",
      "dtypes: float64(1), int64(8), object(1)\n",
      "memory usage: 359.4+ KB\n"
     ]
    }
   ],
   "source": [
    "data.info()"
   ]
  },
  {
   "cell_type": "markdown",
   "metadata": {},
   "source": [
    "1. Column Number_Weeks_Used has null values we will treat the null values using Simple Imputer.\n",
    "2. ID column is of object type, Number_Weeks_Used is of float type else all are of integer data type."
   ]
  },
  {
   "cell_type": "code",
   "execution_count": 7,
   "metadata": {},
   "outputs": [
    {
     "data": {
      "text/plain": [
       "ID                           0\n",
       "Estimated_Insects_Count      0\n",
       "Crop_Type                    0\n",
       "Soil_Type                    0\n",
       "Pesticide_Use_Category       0\n",
       "Number_Doses_Week            0\n",
       "Number_Weeks_Used          442\n",
       "Number_Weeks_Quit            0\n",
       "Season                       0\n",
       "Crop_Damage                  0\n",
       "dtype: int64"
      ]
     },
     "execution_count": 7,
     "metadata": {},
     "output_type": "execute_result"
    }
   ],
   "source": [
    "data.isnull().sum()"
   ]
  },
  {
   "cell_type": "code",
   "execution_count": 8,
   "metadata": {},
   "outputs": [
    {
     "data": {
      "text/plain": [
       "<matplotlib.axes._subplots.AxesSubplot at 0x1dde50bb5b0>"
      ]
     },
     "execution_count": 8,
     "metadata": {},
     "output_type": "execute_result"
    },
    {
     "data": {
      "image/png": "[encoded data removed]",
      "text/plain": [
       "<Figure size 432x288 with 1 Axes>"
      ]
     },
     "metadata": {
      "needs_background": "light"
     },
     "output_type": "display_data"
    }
   ],
   "source": [
    "sns.distplot(data['Number_Weeks_Used'])"
   ]
  },
  {
   "cell_type": "markdown",
   "metadata": {},
   "source": [
    "The data in the column Number_Weeks_Used has a bell shaped curve, data seems to have a normal distribution, so we can replace the null values using mean."
   ]
  },
  {
   "cell_type": "code",
   "execution_count": 9,
   "metadata": {},
   "outputs": [],
   "source": [
    "from sklearn.impute import SimpleImputer\n",
    "si=SimpleImputer(strategy='mean')"
   ]
  },
  {
   "cell_type": "code",
   "execution_count": 10,
   "metadata": {},
   "outputs": [
    {
     "data": {
      "text/html": [
       "<div>\n",
       "<style scoped>\n",
       "    .dataframe tbody tr th:only-of-type {\n",
       "        vertical-align: middle;\n",
       "    }\n",
       "\n",
       "    .dataframe tbody tr th {\n",
       "        vertical-align: top;\n",
       "    }\n",
       "\n",
       "    .dataframe thead th {\n",
       "        text-align: right;\n",
       "    }\n",
       "</style>\n",
       "<table border=\"1\" class=\"dataframe\">\n",
       "  <thead>\n",
       "    <tr style=\"text-align: right;\">\n",
       "      <th></th>\n",
       "      <th>ID</th>\n",
       "      <th>Estimated_Insects_Count</th>\n",
       "      <th>Crop_Type</th>\n",
       "      <th>Soil_Type</th>\n",
       "      <th>Pesticide_Use_Category</th>\n",
       "      <th>Number_Doses_Week</th>\n",
       "      <th>Number_Weeks_Used</th>\n",
       "      <th>Number_Weeks_Quit</th>\n",
       "      <th>Season</th>\n",
       "      <th>Crop_Damage</th>\n",
       "    </tr>\n",
       "  </thead>\n",
       "  <tbody>\n",
       "    <tr>\n",
       "      <th>0</th>\n",
       "      <td>F00000001</td>\n",
       "      <td>188</td>\n",
       "      <td>1</td>\n",
       "      <td>0</td>\n",
       "      <td>1</td>\n",
       "      <td>0</td>\n",
       "      <td>0.000000</td>\n",
       "      <td>0</td>\n",
       "      <td>1</td>\n",
       "      <td>0</td>\n",
       "    </tr>\n",
       "    <tr>\n",
       "      <th>1</th>\n",
       "      <td>F00000003</td>\n",
       "      <td>209</td>\n",
       "      <td>1</td>\n",
       "      <td>0</td>\n",
       "      <td>1</td>\n",
       "      <td>0</td>\n",
       "      <td>0.000000</td>\n",
       "      <td>0</td>\n",
       "      <td>2</td>\n",
       "      <td>1</td>\n",
       "    </tr>\n",
       "    <tr>\n",
       "      <th>2</th>\n",
       "      <td>F00000004</td>\n",
       "      <td>257</td>\n",
       "      <td>1</td>\n",
       "      <td>0</td>\n",
       "      <td>1</td>\n",
       "      <td>0</td>\n",
       "      <td>0.000000</td>\n",
       "      <td>0</td>\n",
       "      <td>2</td>\n",
       "      <td>1</td>\n",
       "    </tr>\n",
       "    <tr>\n",
       "      <th>3</th>\n",
       "      <td>F00000005</td>\n",
       "      <td>257</td>\n",
       "      <td>1</td>\n",
       "      <td>1</td>\n",
       "      <td>1</td>\n",
       "      <td>0</td>\n",
       "      <td>0.000000</td>\n",
       "      <td>0</td>\n",
       "      <td>2</td>\n",
       "      <td>1</td>\n",
       "    </tr>\n",
       "    <tr>\n",
       "      <th>4</th>\n",
       "      <td>F00000006</td>\n",
       "      <td>342</td>\n",
       "      <td>1</td>\n",
       "      <td>0</td>\n",
       "      <td>1</td>\n",
       "      <td>0</td>\n",
       "      <td>0.000000</td>\n",
       "      <td>0</td>\n",
       "      <td>2</td>\n",
       "      <td>1</td>\n",
       "    </tr>\n",
       "    <tr>\n",
       "      <th>...</th>\n",
       "      <td>...</td>\n",
       "      <td>...</td>\n",
       "      <td>...</td>\n",
       "      <td>...</td>\n",
       "      <td>...</td>\n",
       "      <td>...</td>\n",
       "      <td>...</td>\n",
       "      <td>...</td>\n",
       "      <td>...</td>\n",
       "      <td>...</td>\n",
       "    </tr>\n",
       "    <tr>\n",
       "      <th>4594</th>\n",
       "      <td>F00008078</td>\n",
       "      <td>2138</td>\n",
       "      <td>0</td>\n",
       "      <td>1</td>\n",
       "      <td>2</td>\n",
       "      <td>20</td>\n",
       "      <td>28.891027</td>\n",
       "      <td>1</td>\n",
       "      <td>1</td>\n",
       "      <td>1</td>\n",
       "    </tr>\n",
       "    <tr>\n",
       "      <th>4595</th>\n",
       "      <td>F00008079</td>\n",
       "      <td>2139</td>\n",
       "      <td>0</td>\n",
       "      <td>1</td>\n",
       "      <td>2</td>\n",
       "      <td>30</td>\n",
       "      <td>47.000000</td>\n",
       "      <td>2</td>\n",
       "      <td>1</td>\n",
       "      <td>1</td>\n",
       "    </tr>\n",
       "    <tr>\n",
       "      <th>4596</th>\n",
       "      <td>F00008080</td>\n",
       "      <td>2267</td>\n",
       "      <td>0</td>\n",
       "      <td>1</td>\n",
       "      <td>2</td>\n",
       "      <td>10</td>\n",
       "      <td>7.000000</td>\n",
       "      <td>27</td>\n",
       "      <td>2</td>\n",
       "      <td>0</td>\n",
       "    </tr>\n",
       "    <tr>\n",
       "      <th>4597</th>\n",
       "      <td>F00008082</td>\n",
       "      <td>2267</td>\n",
       "      <td>0</td>\n",
       "      <td>1</td>\n",
       "      <td>2</td>\n",
       "      <td>10</td>\n",
       "      <td>20.000000</td>\n",
       "      <td>24</td>\n",
       "      <td>2</td>\n",
       "      <td>0</td>\n",
       "    </tr>\n",
       "    <tr>\n",
       "      <th>4598</th>\n",
       "      <td>F00008083</td>\n",
       "      <td>2267</td>\n",
       "      <td>0</td>\n",
       "      <td>1</td>\n",
       "      <td>2</td>\n",
       "      <td>10</td>\n",
       "      <td>33.000000</td>\n",
       "      <td>17</td>\n",
       "      <td>2</td>\n",
       "      <td>0</td>\n",
       "    </tr>\n",
       "  </tbody>\n",
       "</table>\n",
       "<p>4599 rows × 10 columns</p>\n",
       "</div>"
      ],
      "text/plain": [
       "             ID  Estimated_Insects_Count  Crop_Type  Soil_Type  \\\n",
       "0     F00000001                      188          1          0   \n",
       "1     F00000003                      209          1          0   \n",
       "2     F00000004                      257          1          0   \n",
       "3     F00000005                      257          1          1   \n",
       "4     F00000006                      342          1          0   \n",
       "...         ...                      ...        ...        ...   \n",
       "4594  F00008078                     2138          0          1   \n",
       "4595  F00008079                     2139          0          1   \n",
       "4596  F00008080                     2267          0          1   \n",
       "4597  F00008082                     2267          0          1   \n",
       "4598  F00008083                     2267          0          1   \n",
       "\n",
       "      Pesticide_Use_Category  Number_Doses_Week  Number_Weeks_Used  \\\n",
       "0                          1                  0           0.000000   \n",
       "1                          1                  0           0.000000   \n",
       "2                          1                  0           0.000000   \n",
       "3                          1                  0           0.000000   \n",
       "4                          1                  0           0.000000   \n",
       "...                      ...                ...                ...   \n",
       "4594                       2                 20          28.891027   \n",
       "4595                       2                 30          47.000000   \n",
       "4596                       2                 10           7.000000   \n",
       "4597                       2                 10          20.000000   \n",
       "4598                       2                 10          33.000000   \n",
       "\n",
       "      Number_Weeks_Quit  Season  Crop_Damage  \n",
       "0                     0       1            0  \n",
       "1                     0       2            1  \n",
       "2                     0       2            1  \n",
       "3                     0       2            1  \n",
       "4                     0       2            1  \n",
       "...                 ...     ...          ...  \n",
       "4594                  1       1            1  \n",
       "4595                  2       1            1  \n",
       "4596                 27       2            0  \n",
       "4597                 24       2            0  \n",
       "4598                 17       2            0  \n",
       "\n",
       "[4599 rows x 10 columns]"
      ]
     },
     "execution_count": 10,
     "metadata": {},
     "output_type": "execute_result"
    }
   ],
   "source": [
    "data['Number_Weeks_Used']=si.fit_transform(data['Number_Weeks_Used'].values.reshape(-1,1))\n",
    "data"
   ]
  },
  {
   "cell_type": "code",
   "execution_count": 11,
   "metadata": {},
   "outputs": [
    {
     "data": {
      "text/plain": [
       "<matplotlib.axes._subplots.AxesSubplot at 0x1dde5bb25b0>"
      ]
     },
     "execution_count": 11,
     "metadata": {},
     "output_type": "execute_result"
    },
    {
     "data": {
      "image/png": "[encoded data removed]",
      "text/plain": [
       "<Figure size 432x288 with 2 Axes>"
      ]
     },
     "metadata": {
      "needs_background": "light"
     },
     "output_type": "display_data"
    }
   ],
   "source": [
    "sns.heatmap(data.isnull())"
   ]
  },
  {
   "cell_type": "markdown",
   "metadata": {},
   "source": [
    "Now there are no null values in the data."
   ]
  },
  {
   "cell_type": "code",
   "execution_count": 12,
   "metadata": {},
   "outputs": [
    {
     "data": {
      "text/html": [
       "<div>\n",
       "<style scoped>\n",
       "    .dataframe tbody tr th:only-of-type {\n",
       "        vertical-align: middle;\n",
       "    }\n",
       "\n",
       "    .dataframe tbody tr th {\n",
       "        vertical-align: top;\n",
       "    }\n",
       "\n",
       "    .dataframe thead th {\n",
       "        text-align: right;\n",
       "    }\n",
       "</style>\n",
       "<table border=\"1\" class=\"dataframe\">\n",
       "  <thead>\n",
       "    <tr style=\"text-align: right;\">\n",
       "      <th></th>\n",
       "      <th>Estimated_Insects_Count</th>\n",
       "      <th>Crop_Type</th>\n",
       "      <th>Soil_Type</th>\n",
       "      <th>Pesticide_Use_Category</th>\n",
       "      <th>Number_Doses_Week</th>\n",
       "      <th>Number_Weeks_Used</th>\n",
       "      <th>Number_Weeks_Quit</th>\n",
       "      <th>Season</th>\n",
       "      <th>Crop_Damage</th>\n",
       "    </tr>\n",
       "  </thead>\n",
       "  <tbody>\n",
       "    <tr>\n",
       "      <th>count</th>\n",
       "      <td>4599.000000</td>\n",
       "      <td>4599.000000</td>\n",
       "      <td>4599.000000</td>\n",
       "      <td>4599.000000</td>\n",
       "      <td>4599.000000</td>\n",
       "      <td>4599.000000</td>\n",
       "      <td>4599.000000</td>\n",
       "      <td>4599.000000</td>\n",
       "      <td>4599.000000</td>\n",
       "    </tr>\n",
       "    <tr>\n",
       "      <th>mean</th>\n",
       "      <td>1363.000435</td>\n",
       "      <td>0.224831</td>\n",
       "      <td>0.476625</td>\n",
       "      <td>2.283540</td>\n",
       "      <td>26.477495</td>\n",
       "      <td>28.891027</td>\n",
       "      <td>9.205479</td>\n",
       "      <td>1.894325</td>\n",
       "      <td>0.194390</td>\n",
       "    </tr>\n",
       "    <tr>\n",
       "      <th>std</th>\n",
       "      <td>814.439120</td>\n",
       "      <td>0.417517</td>\n",
       "      <td>0.499508</td>\n",
       "      <td>0.471978</td>\n",
       "      <td>15.524647</td>\n",
       "      <td>11.965785</td>\n",
       "      <td>9.713253</td>\n",
       "      <td>0.694952</td>\n",
       "      <td>0.454597</td>\n",
       "    </tr>\n",
       "    <tr>\n",
       "      <th>min</th>\n",
       "      <td>150.000000</td>\n",
       "      <td>0.000000</td>\n",
       "      <td>0.000000</td>\n",
       "      <td>1.000000</td>\n",
       "      <td>0.000000</td>\n",
       "      <td>0.000000</td>\n",
       "      <td>0.000000</td>\n",
       "      <td>1.000000</td>\n",
       "      <td>0.000000</td>\n",
       "    </tr>\n",
       "    <tr>\n",
       "      <th>25%</th>\n",
       "      <td>731.000000</td>\n",
       "      <td>0.000000</td>\n",
       "      <td>0.000000</td>\n",
       "      <td>2.000000</td>\n",
       "      <td>15.000000</td>\n",
       "      <td>20.000000</td>\n",
       "      <td>0.000000</td>\n",
       "      <td>1.000000</td>\n",
       "      <td>0.000000</td>\n",
       "    </tr>\n",
       "    <tr>\n",
       "      <th>50%</th>\n",
       "      <td>1212.000000</td>\n",
       "      <td>0.000000</td>\n",
       "      <td>0.000000</td>\n",
       "      <td>2.000000</td>\n",
       "      <td>20.000000</td>\n",
       "      <td>28.891027</td>\n",
       "      <td>7.000000</td>\n",
       "      <td>2.000000</td>\n",
       "      <td>0.000000</td>\n",
       "    </tr>\n",
       "    <tr>\n",
       "      <th>75%</th>\n",
       "      <td>1786.000000</td>\n",
       "      <td>0.000000</td>\n",
       "      <td>1.000000</td>\n",
       "      <td>3.000000</td>\n",
       "      <td>40.000000</td>\n",
       "      <td>36.000000</td>\n",
       "      <td>16.000000</td>\n",
       "      <td>2.000000</td>\n",
       "      <td>0.000000</td>\n",
       "    </tr>\n",
       "    <tr>\n",
       "      <th>max</th>\n",
       "      <td>4097.000000</td>\n",
       "      <td>1.000000</td>\n",
       "      <td>1.000000</td>\n",
       "      <td>3.000000</td>\n",
       "      <td>95.000000</td>\n",
       "      <td>66.000000</td>\n",
       "      <td>47.000000</td>\n",
       "      <td>3.000000</td>\n",
       "      <td>2.000000</td>\n",
       "    </tr>\n",
       "  </tbody>\n",
       "</table>\n",
       "</div>"
      ],
      "text/plain": [
       "       Estimated_Insects_Count    Crop_Type    Soil_Type  \\\n",
       "count              4599.000000  4599.000000  4599.000000   \n",
       "mean               1363.000435     0.224831     0.476625   \n",
       "std                 814.439120     0.417517     0.499508   \n",
       "min                 150.000000     0.000000     0.000000   \n",
       "25%                 731.000000     0.000000     0.000000   \n",
       "50%                1212.000000     0.000000     0.000000   \n",
       "75%                1786.000000     0.000000     1.000000   \n",
       "max                4097.000000     1.000000     1.000000   \n",
       "\n",
       "       Pesticide_Use_Category  Number_Doses_Week  Number_Weeks_Used  \\\n",
       "count             4599.000000        4599.000000        4599.000000   \n",
       "mean                 2.283540          26.477495          28.891027   \n",
       "std                  0.471978          15.524647          11.965785   \n",
       "min                  1.000000           0.000000           0.000000   \n",
       "25%                  2.000000          15.000000          20.000000   \n",
       "50%                  2.000000          20.000000          28.891027   \n",
       "75%                  3.000000          40.000000          36.000000   \n",
       "max                  3.000000          95.000000          66.000000   \n",
       "\n",
       "       Number_Weeks_Quit       Season  Crop_Damage  \n",
       "count        4599.000000  4599.000000  4599.000000  \n",
       "mean            9.205479     1.894325     0.194390  \n",
       "std             9.713253     0.694952     0.454597  \n",
       "min             0.000000     1.000000     0.000000  \n",
       "25%             0.000000     1.000000     0.000000  \n",
       "50%             7.000000     2.000000     0.000000  \n",
       "75%            16.000000     2.000000     0.000000  \n",
       "max            47.000000     3.000000     2.000000  "
      ]
     },
     "execution_count": 12,
     "metadata": {},
     "output_type": "execute_result"
    }
   ],
   "source": [
    "data.describe()"
   ]
  },
  {
   "cell_type": "markdown",
   "metadata": {},
   "source": [
    "Observations:\n",
    "    1. Standard Deviation is very high for the column Estimated_Insects_Count.\n",
    "    2. Mean is higher than the standard deviation for the columns: Estimated_Insects_Count, Crop_Type, Soil_Type, Pesticide_Use_Category, Number_Doses_Week, Number_Weeks_Quit, Crop_Damage, the data for these columns is right skewed.\n",
    "    3. For the column, Season median is higher than the mean i.e. the data is left skewed, we will remove the skewness using Power Transformer.\n",
    "    4. Also the difference between the 75th percentile and the max is higher for Estimated_Insects_Count, Number_Doses_Week, Number_Weeks_Quit, the data has outliers which we will treat using zscore."
   ]
  },
  {
   "cell_type": "code",
   "execution_count": 13,
   "metadata": {},
   "outputs": [
    {
     "data": {
      "text/html": [
       "<div>\n",
       "<style scoped>\n",
       "    .dataframe tbody tr th:only-of-type {\n",
       "        vertical-align: middle;\n",
       "    }\n",
       "\n",
       "    .dataframe tbody tr th {\n",
       "        vertical-align: top;\n",
       "    }\n",
       "\n",
       "    .dataframe thead th {\n",
       "        text-align: right;\n",
       "    }\n",
       "</style>\n",
       "<table border=\"1\" class=\"dataframe\">\n",
       "  <thead>\n",
       "    <tr style=\"text-align: right;\">\n",
       "      <th></th>\n",
       "      <th>Estimated_Insects_Count</th>\n",
       "      <th>Crop_Type</th>\n",
       "      <th>Soil_Type</th>\n",
       "      <th>Pesticide_Use_Category</th>\n",
       "      <th>Number_Doses_Week</th>\n",
       "      <th>Number_Weeks_Used</th>\n",
       "      <th>Number_Weeks_Quit</th>\n",
       "      <th>Season</th>\n",
       "      <th>Crop_Damage</th>\n",
       "    </tr>\n",
       "  </thead>\n",
       "  <tbody>\n",
       "    <tr>\n",
       "      <th>Estimated_Insects_Count</th>\n",
       "      <td>1.000000</td>\n",
       "      <td>-0.036911</td>\n",
       "      <td>-0.151796</td>\n",
       "      <td>-0.027111</td>\n",
       "      <td>-0.122509</td>\n",
       "      <td>0.427904</td>\n",
       "      <td>0.246719</td>\n",
       "      <td>-0.009482</td>\n",
       "      <td>0.202312</td>\n",
       "    </tr>\n",
       "    <tr>\n",
       "      <th>Crop_Type</th>\n",
       "      <td>-0.036911</td>\n",
       "      <td>1.000000</td>\n",
       "      <td>-0.175019</td>\n",
       "      <td>0.349662</td>\n",
       "      <td>-0.163832</td>\n",
       "      <td>-0.002128</td>\n",
       "      <td>-0.273475</td>\n",
       "      <td>-0.000549</td>\n",
       "      <td>0.021772</td>\n",
       "    </tr>\n",
       "    <tr>\n",
       "      <th>Soil_Type</th>\n",
       "      <td>-0.151796</td>\n",
       "      <td>-0.175019</td>\n",
       "      <td>1.000000</td>\n",
       "      <td>0.021661</td>\n",
       "      <td>0.050099</td>\n",
       "      <td>-0.093539</td>\n",
       "      <td>-0.034355</td>\n",
       "      <td>0.011052</td>\n",
       "      <td>-0.059481</td>\n",
       "    </tr>\n",
       "    <tr>\n",
       "      <th>Pesticide_Use_Category</th>\n",
       "      <td>-0.027111</td>\n",
       "      <td>0.349662</td>\n",
       "      <td>0.021661</td>\n",
       "      <td>1.000000</td>\n",
       "      <td>-0.005985</td>\n",
       "      <td>0.368106</td>\n",
       "      <td>-0.569467</td>\n",
       "      <td>0.008487</td>\n",
       "      <td>0.199195</td>\n",
       "    </tr>\n",
       "    <tr>\n",
       "      <th>Number_Doses_Week</th>\n",
       "      <td>-0.122509</td>\n",
       "      <td>-0.163832</td>\n",
       "      <td>0.050099</td>\n",
       "      <td>-0.005985</td>\n",
       "      <td>1.000000</td>\n",
       "      <td>0.099705</td>\n",
       "      <td>-0.032381</td>\n",
       "      <td>-0.003768</td>\n",
       "      <td>-0.018363</td>\n",
       "    </tr>\n",
       "    <tr>\n",
       "      <th>Number_Weeks_Used</th>\n",
       "      <td>0.427904</td>\n",
       "      <td>-0.002128</td>\n",
       "      <td>-0.093539</td>\n",
       "      <td>0.368106</td>\n",
       "      <td>0.099705</td>\n",
       "      <td>1.000000</td>\n",
       "      <td>-0.446200</td>\n",
       "      <td>-0.010590</td>\n",
       "      <td>0.231925</td>\n",
       "    </tr>\n",
       "    <tr>\n",
       "      <th>Number_Weeks_Quit</th>\n",
       "      <td>0.246719</td>\n",
       "      <td>-0.273475</td>\n",
       "      <td>-0.034355</td>\n",
       "      <td>-0.569467</td>\n",
       "      <td>-0.032381</td>\n",
       "      <td>-0.446200</td>\n",
       "      <td>1.000000</td>\n",
       "      <td>0.004861</td>\n",
       "      <td>-0.152918</td>\n",
       "    </tr>\n",
       "    <tr>\n",
       "      <th>Season</th>\n",
       "      <td>-0.009482</td>\n",
       "      <td>-0.000549</td>\n",
       "      <td>0.011052</td>\n",
       "      <td>0.008487</td>\n",
       "      <td>-0.003768</td>\n",
       "      <td>-0.010590</td>\n",
       "      <td>0.004861</td>\n",
       "      <td>1.000000</td>\n",
       "      <td>-0.016196</td>\n",
       "    </tr>\n",
       "    <tr>\n",
       "      <th>Crop_Damage</th>\n",
       "      <td>0.202312</td>\n",
       "      <td>0.021772</td>\n",
       "      <td>-0.059481</td>\n",
       "      <td>0.199195</td>\n",
       "      <td>-0.018363</td>\n",
       "      <td>0.231925</td>\n",
       "      <td>-0.152918</td>\n",
       "      <td>-0.016196</td>\n",
       "      <td>1.000000</td>\n",
       "    </tr>\n",
       "  </tbody>\n",
       "</table>\n",
       "</div>"
      ],
      "text/plain": [
       "                         Estimated_Insects_Count  Crop_Type  Soil_Type  \\\n",
       "Estimated_Insects_Count                 1.000000  -0.036911  -0.151796   \n",
       "Crop_Type                              -0.036911   1.000000  -0.175019   \n",
       "Soil_Type                              -0.151796  -0.175019   1.000000   \n",
       "Pesticide_Use_Category                 -0.027111   0.349662   0.021661   \n",
       "Number_Doses_Week                      -0.122509  -0.163832   0.050099   \n",
       "Number_Weeks_Used                       0.427904  -0.002128  -0.093539   \n",
       "Number_Weeks_Quit                       0.246719  -0.273475  -0.034355   \n",
       "Season                                 -0.009482  -0.000549   0.011052   \n",
       "Crop_Damage                             0.202312   0.021772  -0.059481   \n",
       "\n",
       "                         Pesticide_Use_Category  Number_Doses_Week  \\\n",
       "Estimated_Insects_Count               -0.027111          -0.122509   \n",
       "Crop_Type                              0.349662          -0.163832   \n",
       "Soil_Type                              0.021661           0.050099   \n",
       "Pesticide_Use_Category                 1.000000          -0.005985   \n",
       "Number_Doses_Week                     -0.005985           1.000000   \n",
       "Number_Weeks_Used                      0.368106           0.099705   \n",
       "Number_Weeks_Quit                     -0.569467          -0.032381   \n",
       "Season                                 0.008487          -0.003768   \n",
       "Crop_Damage                            0.199195          -0.018363   \n",
       "\n",
       "                         Number_Weeks_Used  Number_Weeks_Quit    Season  \\\n",
       "Estimated_Insects_Count           0.427904           0.246719 -0.009482   \n",
       "Crop_Type                        -0.002128          -0.273475 -0.000549   \n",
       "Soil_Type                        -0.093539          -0.034355  0.011052   \n",
       "Pesticide_Use_Category            0.368106          -0.569467  0.008487   \n",
       "Number_Doses_Week                 0.099705          -0.032381 -0.003768   \n",
       "Number_Weeks_Used                 1.000000          -0.446200 -0.010590   \n",
       "Number_Weeks_Quit                -0.446200           1.000000  0.004861   \n",
       "Season                           -0.010590           0.004861  1.000000   \n",
       "Crop_Damage                       0.231925          -0.152918 -0.016196   \n",
       "\n",
       "                         Crop_Damage  \n",
       "Estimated_Insects_Count     0.202312  \n",
       "Crop_Type                   0.021772  \n",
       "Soil_Type                  -0.059481  \n",
       "Pesticide_Use_Category      0.199195  \n",
       "Number_Doses_Week          -0.018363  \n",
       "Number_Weeks_Used           0.231925  \n",
       "Number_Weeks_Quit          -0.152918  \n",
       "Season                     -0.016196  \n",
       "Crop_Damage                 1.000000  "
      ]
     },
     "execution_count": 13,
     "metadata": {},
     "output_type": "execute_result"
    }
   ],
   "source": [
    "data.corr()"
   ]
  },
  {
   "cell_type": "code",
   "execution_count": 14,
   "metadata": {},
   "outputs": [
    {
     "data": {
      "text/plain": [
       "<matplotlib.axes._subplots.AxesSubplot at 0x1dde4fab970>"
      ]
     },
     "execution_count": 14,
     "metadata": {},
     "output_type": "execute_result"
    },
    {
     "data": {
      "image/png": "[encoded data removed]",
      "text/plain": [
       "<Figure size 720x720 with 2 Axes>"
      ]
     },
     "metadata": {
      "needs_background": "light"
     },
     "output_type": "display_data"
    }
   ],
   "source": [
    "#visualizing the correlation using heatmap.\n",
    "plt.figure(figsize=(10,10))\n",
    "sns.heatmap(data.corr(),annot=True,cmap='summer')"
   ]
  },
  {
   "cell_type": "markdown",
   "metadata": {},
   "source": [
    "There is a high negative correlation among Pesticide_Use_Category and Number_Weeks_Quit and among Number_Weeks_Quit and Number_Weeks_Used."
   ]
  },
  {
   "cell_type": "markdown",
   "metadata": {},
   "source": [
    "Visualization of columns:"
   ]
  },
  {
   "cell_type": "code",
   "execution_count": 15,
   "metadata": {},
   "outputs": [
    {
     "name": "stdout",
     "output_type": "stream",
     "text": [
      "0    3565\n",
      "1    1034\n",
      "Name: Crop_Type, dtype: int64\n"
     ]
    },
    {
     "data": {
      "image/png": "[encoded data removed]",
      "text/plain": [
       "<Figure size 432x288 with 1 Axes>"
      ]
     },
     "metadata": {
      "needs_background": "light"
     },
     "output_type": "display_data"
    }
   ],
   "source": [
    "sns.countplot(data['Crop_Type'])\n",
    "print(data['Crop_Type'].value_counts()) "
   ]
  },
  {
   "cell_type": "markdown",
   "metadata": {},
   "source": [
    "We have 3565 crop type 1 and only 1034 of crop type 2."
   ]
  },
  {
   "cell_type": "code",
   "execution_count": 16,
   "metadata": {},
   "outputs": [
    {
     "name": "stdout",
     "output_type": "stream",
     "text": [
      "0    2407\n",
      "1    2192\n",
      "Name: Soil_Type, dtype: int64\n"
     ]
    },
    {
     "data": {
      "image/png": "[encoded data removed]",
      "text/plain": [
       "<Figure size 432x288 with 1 Axes>"
      ]
     },
     "metadata": {
      "needs_background": "light"
     },
     "output_type": "display_data"
    }
   ],
   "source": [
    "sns.countplot(data['Soil_Type'])\n",
    "print(data['Soil_Type'].value_counts())"
   ]
  },
  {
   "cell_type": "markdown",
   "metadata": {},
   "source": [
    "We have 2407 entries of soil type 1 and 2192 entries of soil type 2."
   ]
  },
  {
   "cell_type": "code",
   "execution_count": 17,
   "metadata": {},
   "outputs": [
    {
     "name": "stdout",
     "output_type": "stream",
     "text": [
      "2    3205\n",
      "3    1349\n",
      "1      45\n",
      "Name: Pesticide_Use_Category, dtype: int64\n"
     ]
    },
    {
     "data": {
      "image/png": "[encoded data removed]",
      "text/plain": [
       "<Figure size 432x288 with 1 Axes>"
      ]
     },
     "metadata": {
      "needs_background": "light"
     },
     "output_type": "display_data"
    }
   ],
   "source": [
    "sns.countplot(data['Pesticide_Use_Category'])\n",
    "print(data['Pesticide_Use_Category'].value_counts())"
   ]
  },
  {
   "cell_type": "markdown",
   "metadata": {},
   "source": [
    "1. 45 entries of crops are there on which pesticides are never used.\n",
    "2. 3205 counts of crops are those on which pesticides were previously used..\n",
    "3. 1349 are the entries on which pesticides are currently being used."
   ]
  },
  {
   "cell_type": "code",
   "execution_count": 18,
   "metadata": {},
   "outputs": [
    {
     "name": "stdout",
     "output_type": "stream",
     "text": [
      "2    2327\n",
      "1    1379\n",
      "3     893\n",
      "Name: Season, dtype: int64\n"
     ]
    },
    {
     "data": {
      "image/png": "[encoded data removed]",
      "text/plain": [
       "<Figure size 432x288 with 1 Axes>"
      ]
     },
     "metadata": {
      "needs_background": "light"
     },
     "output_type": "display_data"
    }
   ],
   "source": [
    "sns.countplot(data['Season'])\n",
    "print(data['Season'].value_counts())"
   ]
  },
  {
   "cell_type": "markdown",
   "metadata": {},
   "source": [
    "1. Count of season 2 is the highest, we can say that crop sown in this season are more in the dataset."
   ]
  },
  {
   "cell_type": "code",
   "execution_count": 19,
   "metadata": {},
   "outputs": [
    {
     "name": "stdout",
     "output_type": "stream",
     "text": [
      "0    3820\n",
      "1     664\n",
      "2     115\n",
      "Name: Crop_Damage, dtype: int64\n"
     ]
    },
    {
     "data": {
      "image/png": "[encoded data removed]",
      "text/plain": [
       "<Figure size 432x288 with 1 Axes>"
      ]
     },
     "metadata": {
      "needs_background": "light"
     },
     "output_type": "display_data"
    }
   ],
   "source": [
    "sns.countplot(data['Crop_Damage'])\n",
    "print(data['Crop_Damage'].value_counts())"
   ]
  },
  {
   "cell_type": "markdown",
   "metadata": {},
   "source": [
    "1. Category 0 holds a count of 3820 i.e. Most of the crops are categorized as alive. \n",
    "2. Category 1 is 664 in number i.e. 664 crops damaged due to some other reasons.\n",
    "3. Category 3 is 115 in number i.e. 134 plants damaged due to pesticides."
   ]
  },
  {
   "cell_type": "markdown",
   "metadata": {},
   "source": [
    "Bivariate analysis:"
   ]
  },
  {
   "cell_type": "code",
   "execution_count": 20,
   "metadata": {},
   "outputs": [
    {
     "data": {
      "text/plain": [
       "<matplotlib.axes._subplots.AxesSubplot at 0x1dde4e73070>"
      ]
     },
     "execution_count": 20,
     "metadata": {},
     "output_type": "execute_result"
    },
    {
     "data": {
      "image/png": "[encoded data removed]",
      "text/plain": [
       "<Figure size 432x288 with 1 Axes>"
      ]
     },
     "metadata": {
      "needs_background": "light"
     },
     "output_type": "display_data"
    }
   ],
   "source": [
    "sns.barplot(x='Crop_Damage',y='Estimated_Insects_Count',data=data)"
   ]
  },
  {
   "cell_type": "markdown",
   "metadata": {},
   "source": [
    "As we know that Crop_Damage category of 1 is the death of crop due to some other reason and insect count is higher in category 1 so insects could be a reason for the crop damage. In alive plants i.e. 0 insects count is lowest.  "
   ]
  },
  {
   "cell_type": "code",
   "execution_count": 21,
   "metadata": {},
   "outputs": [
    {
     "data": {
      "text/plain": [
       "<matplotlib.axes._subplots.AxesSubplot at 0x1dde4eafa90>"
      ]
     },
     "execution_count": 21,
     "metadata": {},
     "output_type": "execute_result"
    },
    {
     "data": {
      "image/png": "[encoded data removed]",
      "text/plain": [
       "<Figure size 432x288 with 1 Axes>"
      ]
     },
     "metadata": {
      "needs_background": "light"
     },
     "output_type": "display_data"
    }
   ],
   "source": [
    "sns.barplot(x='Soil_Type',y='Estimated_Insects_Count',hue='Crop_Damage',data=data)"
   ]
  },
  {
   "cell_type": "markdown",
   "metadata": {},
   "source": [
    "For soil type 0 we can see a higher count of insects. Also it may be a possibility that in soil type 0 the crop daamge is higher than in soil type 1. "
   ]
  },
  {
   "cell_type": "code",
   "execution_count": 22,
   "metadata": {},
   "outputs": [
    {
     "data": {
      "text/html": [
       "<div>\n",
       "<style scoped>\n",
       "    .dataframe tbody tr th:only-of-type {\n",
       "        vertical-align: middle;\n",
       "    }\n",
       "\n",
       "    .dataframe tbody tr th {\n",
       "        vertical-align: top;\n",
       "    }\n",
       "\n",
       "    .dataframe thead th {\n",
       "        text-align: right;\n",
       "    }\n",
       "</style>\n",
       "<table border=\"1\" class=\"dataframe\">\n",
       "  <thead>\n",
       "    <tr style=\"text-align: right;\">\n",
       "      <th>Crop_Damage</th>\n",
       "      <th>0</th>\n",
       "      <th>1</th>\n",
       "      <th>2</th>\n",
       "    </tr>\n",
       "    <tr>\n",
       "      <th>Soil_Type</th>\n",
       "      <th></th>\n",
       "      <th></th>\n",
       "      <th></th>\n",
       "    </tr>\n",
       "  </thead>\n",
       "  <tbody>\n",
       "    <tr>\n",
       "      <th>0</th>\n",
       "      <td>1947</td>\n",
       "      <td>390</td>\n",
       "      <td>70</td>\n",
       "    </tr>\n",
       "    <tr>\n",
       "      <th>1</th>\n",
       "      <td>1873</td>\n",
       "      <td>274</td>\n",
       "      <td>45</td>\n",
       "    </tr>\n",
       "  </tbody>\n",
       "</table>\n",
       "</div>"
      ],
      "text/plain": [
       "Crop_Damage     0    1   2\n",
       "Soil_Type                 \n",
       "0            1947  390  70\n",
       "1            1873  274  45"
      ]
     },
     "execution_count": 22,
     "metadata": {},
     "output_type": "execute_result"
    }
   ],
   "source": [
    "cross=pd.crosstab(data['Soil_Type'],data['Crop_Damage'])\n",
    "cross"
   ]
  },
  {
   "cell_type": "code",
   "execution_count": 23,
   "metadata": {},
   "outputs": [
    {
     "data": {
      "text/plain": [
       "<matplotlib.axes._subplots.AxesSubplot at 0x1dde4d1da30>"
      ]
     },
     "execution_count": 23,
     "metadata": {},
     "output_type": "execute_result"
    },
    {
     "data": {
      "image/png": "[encoded data removed]",
      "text/plain": [
       "<Figure size 432x288 with 1 Axes>"
      ]
     },
     "metadata": {
      "needs_background": "light"
     },
     "output_type": "display_data"
    }
   ],
   "source": [
    "cross.plot(kind='bar',stacked=True)"
   ]
  },
  {
   "cell_type": "markdown",
   "metadata": {},
   "source": [
    "In soil type 0 we see that crop damage due to some other reasons and also crop damage due to pesticides is higher than in soil type 1."
   ]
  },
  {
   "cell_type": "code",
   "execution_count": 24,
   "metadata": {},
   "outputs": [
    {
     "data": {
      "text/plain": [
       "<matplotlib.axes._subplots.AxesSubplot at 0x1dde5f57370>"
      ]
     },
     "execution_count": 24,
     "metadata": {},
     "output_type": "execute_result"
    },
    {
     "data": {
      "image/png": "[encoded data removed]",
      "text/plain": [
       "<Figure size 432x288 with 1 Axes>"
      ]
     },
     "metadata": {
      "needs_background": "light"
     },
     "output_type": "display_data"
    }
   ],
   "source": [
    "sns.barplot(x='Crop_Type',y='Crop_Damage',data=data)"
   ]
  },
  {
   "cell_type": "markdown",
   "metadata": {},
   "source": [
    "In above plot, Crop type 1 is more prone to damage we can say."
   ]
  },
  {
   "cell_type": "code",
   "execution_count": 25,
   "metadata": {},
   "outputs": [
    {
     "data": {
      "text/html": [
       "<div>\n",
       "<style scoped>\n",
       "    .dataframe tbody tr th:only-of-type {\n",
       "        vertical-align: middle;\n",
       "    }\n",
       "\n",
       "    .dataframe tbody tr th {\n",
       "        vertical-align: top;\n",
       "    }\n",
       "\n",
       "    .dataframe thead th {\n",
       "        text-align: right;\n",
       "    }\n",
       "</style>\n",
       "<table border=\"1\" class=\"dataframe\">\n",
       "  <thead>\n",
       "    <tr style=\"text-align: right;\">\n",
       "      <th>Crop_Damage</th>\n",
       "      <th>0</th>\n",
       "      <th>1</th>\n",
       "      <th>2</th>\n",
       "    </tr>\n",
       "    <tr>\n",
       "      <th>Pesticide_Use_Category</th>\n",
       "      <th></th>\n",
       "      <th></th>\n",
       "      <th></th>\n",
       "    </tr>\n",
       "  </thead>\n",
       "  <tbody>\n",
       "    <tr>\n",
       "      <th>1</th>\n",
       "      <td>7</td>\n",
       "      <td>33</td>\n",
       "      <td>5</td>\n",
       "    </tr>\n",
       "    <tr>\n",
       "      <th>2</th>\n",
       "      <td>2881</td>\n",
       "      <td>290</td>\n",
       "      <td>34</td>\n",
       "    </tr>\n",
       "    <tr>\n",
       "      <th>3</th>\n",
       "      <td>932</td>\n",
       "      <td>341</td>\n",
       "      <td>76</td>\n",
       "    </tr>\n",
       "  </tbody>\n",
       "</table>\n",
       "</div>"
      ],
      "text/plain": [
       "Crop_Damage                0    1   2\n",
       "Pesticide_Use_Category               \n",
       "1                          7   33   5\n",
       "2                       2881  290  34\n",
       "3                        932  341  76"
      ]
     },
     "execution_count": 25,
     "metadata": {},
     "output_type": "execute_result"
    }
   ],
   "source": [
    "cross1=pd.crosstab(data['Pesticide_Use_Category'],data['Crop_Damage'])\n",
    "cross1"
   ]
  },
  {
   "cell_type": "code",
   "execution_count": 26,
   "metadata": {},
   "outputs": [
    {
     "data": {
      "text/plain": [
       "<matplotlib.axes._subplots.AxesSubplot at 0x1dde5fcfa90>"
      ]
     },
     "execution_count": 26,
     "metadata": {},
     "output_type": "execute_result"
    },
    {
     "data": {
      "image/png": "[encoded data removed]",
      "text/plain": [
       "<Figure size 432x288 with 1 Axes>"
      ]
     },
     "metadata": {
      "needs_background": "light"
     },
     "output_type": "display_data"
    }
   ],
   "source": [
    "cross1.plot(kind='bar',stacked=True)"
   ]
  },
  {
   "cell_type": "markdown",
   "metadata": {},
   "source": [
    "As the count for Pesticide_Use_Category were the highest we can see some similar pattern here in the plot above. There is highest crop damage(by some other reasons)  on the crops on which fertilizers are currently used. "
   ]
  },
  {
   "cell_type": "code",
   "execution_count": 27,
   "metadata": {},
   "outputs": [
    {
     "data": {
      "text/html": [
       "<div>\n",
       "<style scoped>\n",
       "    .dataframe tbody tr th:only-of-type {\n",
       "        vertical-align: middle;\n",
       "    }\n",
       "\n",
       "    .dataframe tbody tr th {\n",
       "        vertical-align: top;\n",
       "    }\n",
       "\n",
       "    .dataframe thead th {\n",
       "        text-align: right;\n",
       "    }\n",
       "</style>\n",
       "<table border=\"1\" class=\"dataframe\">\n",
       "  <thead>\n",
       "    <tr style=\"text-align: right;\">\n",
       "      <th>Crop_Damage</th>\n",
       "      <th>0</th>\n",
       "      <th>1</th>\n",
       "      <th>2</th>\n",
       "    </tr>\n",
       "    <tr>\n",
       "      <th>Season</th>\n",
       "      <th></th>\n",
       "      <th></th>\n",
       "      <th></th>\n",
       "    </tr>\n",
       "  </thead>\n",
       "  <tbody>\n",
       "    <tr>\n",
       "      <th>1</th>\n",
       "      <td>1150</td>\n",
       "      <td>192</td>\n",
       "      <td>37</td>\n",
       "    </tr>\n",
       "    <tr>\n",
       "      <th>2</th>\n",
       "      <td>1908</td>\n",
       "      <td>358</td>\n",
       "      <td>61</td>\n",
       "    </tr>\n",
       "    <tr>\n",
       "      <th>3</th>\n",
       "      <td>762</td>\n",
       "      <td>114</td>\n",
       "      <td>17</td>\n",
       "    </tr>\n",
       "  </tbody>\n",
       "</table>\n",
       "</div>"
      ],
      "text/plain": [
       "Crop_Damage     0    1   2\n",
       "Season                    \n",
       "1            1150  192  37\n",
       "2            1908  358  61\n",
       "3             762  114  17"
      ]
     },
     "execution_count": 27,
     "metadata": {},
     "output_type": "execute_result"
    }
   ],
   "source": [
    "cross2=pd.crosstab(data['Season'],data['Crop_Damage'])\n",
    "cross2"
   ]
  },
  {
   "cell_type": "code",
   "execution_count": 28,
   "metadata": {},
   "outputs": [
    {
     "data": {
      "text/plain": [
       "<matplotlib.axes._subplots.AxesSubplot at 0x1dde6048fa0>"
      ]
     },
     "execution_count": 28,
     "metadata": {},
     "output_type": "execute_result"
    },
    {
     "data": {
      "image/png": "[encoded data removed]",
      "text/plain": [
       "<Figure size 432x288 with 1 Axes>"
      ]
     },
     "metadata": {
      "needs_background": "light"
     },
     "output_type": "display_data"
    }
   ],
   "source": [
    "cross2.plot(kind='bar',stacked=True)"
   ]
  },
  {
   "cell_type": "markdown",
   "metadata": {},
   "source": [
    " Season 2 has the highest entries in the data thats why we have most of the plants alive in season 2. Also count for crops damage is high in season 2."
   ]
  },
  {
   "cell_type": "code",
   "execution_count": 29,
   "metadata": {},
   "outputs": [
    {
     "data": {
      "text/html": [
       "<div>\n",
       "<style scoped>\n",
       "    .dataframe tbody tr th:only-of-type {\n",
       "        vertical-align: middle;\n",
       "    }\n",
       "\n",
       "    .dataframe tbody tr th {\n",
       "        vertical-align: top;\n",
       "    }\n",
       "\n",
       "    .dataframe thead th {\n",
       "        text-align: right;\n",
       "    }\n",
       "</style>\n",
       "<table border=\"1\" class=\"dataframe\">\n",
       "  <thead>\n",
       "    <tr style=\"text-align: right;\">\n",
       "      <th>Crop_Type</th>\n",
       "      <th>0</th>\n",
       "      <th>1</th>\n",
       "    </tr>\n",
       "    <tr>\n",
       "      <th>Soil_Type</th>\n",
       "      <th></th>\n",
       "      <th></th>\n",
       "    </tr>\n",
       "  </thead>\n",
       "  <tbody>\n",
       "    <tr>\n",
       "      <th>0</th>\n",
       "      <td>1698</td>\n",
       "      <td>709</td>\n",
       "    </tr>\n",
       "    <tr>\n",
       "      <th>1</th>\n",
       "      <td>1867</td>\n",
       "      <td>325</td>\n",
       "    </tr>\n",
       "  </tbody>\n",
       "</table>\n",
       "</div>"
      ],
      "text/plain": [
       "Crop_Type     0    1\n",
       "Soil_Type           \n",
       "0          1698  709\n",
       "1          1867  325"
      ]
     },
     "execution_count": 29,
     "metadata": {},
     "output_type": "execute_result"
    }
   ],
   "source": [
    "cross3=pd.crosstab(data['Soil_Type'],data['Crop_Type'])\n",
    "cross3"
   ]
  },
  {
   "cell_type": "code",
   "execution_count": 30,
   "metadata": {},
   "outputs": [
    {
     "name": "stdout",
     "output_type": "stream",
     "text": [
      "0    3565\n",
      "1    1034\n",
      "Name: Crop_Type, dtype: int64\n",
      "0    2407\n",
      "1    2192\n",
      "Name: Soil_Type, dtype: int64\n"
     ]
    },
    {
     "data": {
      "text/plain": [
       "<matplotlib.axes._subplots.AxesSubplot at 0x1dde60a1310>"
      ]
     },
     "execution_count": 30,
     "metadata": {},
     "output_type": "execute_result"
    },
    {
     "data": {
      "image/png": "[encoded data removed]",
      "text/plain": [
       "<Figure size 432x288 with 1 Axes>"
      ]
     },
     "metadata": {
      "needs_background": "light"
     },
     "output_type": "display_data"
    }
   ],
   "source": [
    "print(data['Crop_Type'].value_counts())\n",
    "print(data['Soil_Type'].value_counts())\n",
    "cross3.plot(kind='bar',stacked=True)"
   ]
  },
  {
   "cell_type": "markdown",
   "metadata": {},
   "source": [
    "It may be inferred that soil type 1 is favourable to crop type 0 and soil type 0 is favourable to crop type 1."
   ]
  },
  {
   "cell_type": "code",
   "execution_count": 31,
   "metadata": {},
   "outputs": [
    {
     "data": {
      "text/html": [
       "<div>\n",
       "<style scoped>\n",
       "    .dataframe tbody tr th:only-of-type {\n",
       "        vertical-align: middle;\n",
       "    }\n",
       "\n",
       "    .dataframe tbody tr th {\n",
       "        vertical-align: top;\n",
       "    }\n",
       "\n",
       "    .dataframe thead th {\n",
       "        text-align: right;\n",
       "    }\n",
       "</style>\n",
       "<table border=\"1\" class=\"dataframe\">\n",
       "  <thead>\n",
       "    <tr style=\"text-align: right;\">\n",
       "      <th>Crop_Type</th>\n",
       "      <th>0</th>\n",
       "      <th>1</th>\n",
       "    </tr>\n",
       "    <tr>\n",
       "      <th>Pesticide_Use_Category</th>\n",
       "      <th></th>\n",
       "      <th></th>\n",
       "    </tr>\n",
       "  </thead>\n",
       "  <tbody>\n",
       "    <tr>\n",
       "      <th>1</th>\n",
       "      <td>21</td>\n",
       "      <td>24</td>\n",
       "    </tr>\n",
       "    <tr>\n",
       "      <th>2</th>\n",
       "      <td>2829</td>\n",
       "      <td>376</td>\n",
       "    </tr>\n",
       "    <tr>\n",
       "      <th>3</th>\n",
       "      <td>715</td>\n",
       "      <td>634</td>\n",
       "    </tr>\n",
       "  </tbody>\n",
       "</table>\n",
       "</div>"
      ],
      "text/plain": [
       "Crop_Type                  0    1\n",
       "Pesticide_Use_Category           \n",
       "1                         21   24\n",
       "2                       2829  376\n",
       "3                        715  634"
      ]
     },
     "execution_count": 31,
     "metadata": {},
     "output_type": "execute_result"
    }
   ],
   "source": [
    "cross4=pd.crosstab(data['Pesticide_Use_Category'],data['Crop_Type'])\n",
    "cross4"
   ]
  },
  {
   "cell_type": "code",
   "execution_count": 32,
   "metadata": {},
   "outputs": [
    {
     "name": "stdout",
     "output_type": "stream",
     "text": [
      "0    3565\n",
      "1    1034\n",
      "Name: Crop_Type, dtype: int64\n",
      "2    3205\n",
      "3    1349\n",
      "1      45\n",
      "Name: Pesticide_Use_Category, dtype: int64\n"
     ]
    },
    {
     "data": {
      "text/plain": [
       "<matplotlib.axes._subplots.AxesSubplot at 0x1dde73972e0>"
      ]
     },
     "execution_count": 32,
     "metadata": {},
     "output_type": "execute_result"
    },
    {
     "data": {
      "image/png": "[encoded data removed]",
      "text/plain": [
       "<Figure size 432x288 with 1 Axes>"
      ]
     },
     "metadata": {
      "needs_background": "light"
     },
     "output_type": "display_data"
    }
   ],
   "source": [
    "print(data['Crop_Type'].value_counts())\n",
    "print(data['Pesticide_Use_Category'].value_counts())\n",
    "cross4.plot(kind='bar',stacked=True)"
   ]
  },
  {
   "cell_type": "markdown",
   "metadata": {},
   "source": [
    "For crop type 1 we can see that higher number of crops are currently being spread with pesticides."
   ]
  },
  {
   "cell_type": "code",
   "execution_count": 33,
   "metadata": {},
   "outputs": [
    {
     "data": {
      "image/png": "[encoded data removed]",
      "text/plain": [
       "<Figure size 432x288 with 1 Axes>"
      ]
     },
     "metadata": {
      "needs_background": "light"
     },
     "output_type": "display_data"
    },
    {
     "data": {
      "image/png": "[encoded data removed]",
      "text/plain": [
       "<Figure size 432x288 with 1 Axes>"
      ]
     },
     "metadata": {
      "needs_background": "light"
     },
     "output_type": "display_data"
    },
    {
     "data": {
      "image/png": "[encoded data removed]",
      "text/plain": [
       "<Figure size 432x288 with 1 Axes>"
      ]
     },
     "metadata": {
      "needs_background": "light"
     },
     "output_type": "display_data"
    },
    {
     "data": {
      "image/png": "[encoded data removed]",
      "text/plain": [
       "<Figure size 432x288 with 1 Axes>"
      ]
     },
     "metadata": {
      "needs_background": "light"
     },
     "output_type": "display_data"
    },
    {
     "data": {
      "image/png": "[encoded data removed]",
      "text/plain": [
       "<Figure size 432x288 with 1 Axes>"
      ]
     },
     "metadata": {
      "needs_background": "light"
     },
     "output_type": "display_data"
    },
    {
     "data": {
      "image/png": "[encoded data removed]",
      "text/plain": [
       "<Figure size 432x288 with 1 Axes>"
      ]
     },
     "metadata": {
      "needs_background": "light"
     },
     "output_type": "display_data"
    },
    {
     "data": {
      "image/png": "[encoded data removed]",
      "text/plain": [
       "<Figure size 432x288 with 1 Axes>"
      ]
     },
     "metadata": {
      "needs_background": "light"
     },
     "output_type": "display_data"
    },
    {
     "data": {
      "image/png": "[encoded data removed]",
      "text/plain": [
       "<Figure size 432x288 with 1 Axes>"
      ]
     },
     "metadata": {
      "needs_background": "light"
     },
     "output_type": "display_data"
    },
    {
     "data": {
      "image/png": "[encoded data removed]",
      "text/plain": [
       "<Figure size 432x288 with 1 Axes>"
      ]
     },
     "metadata": {
      "needs_background": "light"
     },
     "output_type": "display_data"
    }
   ],
   "source": [
    "for i in data.describe():\n",
    "    sns.distplot(data[i])\n",
    "    plt.show()"
   ]
  },
  {
   "cell_type": "markdown",
   "metadata": {},
   "source": [
    "With the help of distplot we can see the distribution of the data:\n",
    "    1. Estimated_Insects_Count is right skewed.\n",
    "    2. Crop_Type is a categorical data with entries as 0 and 1.\n",
    "    3. Soil_Type is also a categorical data with two entries 0 and 1.\n",
    "    4. Pesticide_Use_Category is a categorical data with 3 entries 1,2 and 3 with minimum entries for category 1.\n",
    "    5. Number_Doses_Week is a right skewed data.\n",
    "    6. Number_Weeks_Used is a bell shaped curve having normal distribution.\n",
    "    7. Number_Weeks_Quit is a right skewed data.\n",
    "    8. Season is a categorical data with three entires 1,2 and 3.\n",
    "    9. Crop_Damage is a categorical data with three entries 0,1 and 2 having highest entries for category 0."
   ]
  },
  {
   "cell_type": "code",
   "execution_count": 34,
   "metadata": {},
   "outputs": [
    {
     "data": {
      "text/plain": [
       "Estimated_Insects_Count    0.911469\n",
       "Crop_Type                  1.318693\n",
       "Soil_Type                  0.093631\n",
       "Pesticide_Use_Category     0.678586\n",
       "Number_Doses_Week          0.945895\n",
       "Number_Weeks_Used          0.278664\n",
       "Number_Weeks_Quit          0.919771\n",
       "Season                     0.144841\n",
       "Crop_Damage                2.306933\n",
       "dtype: float64"
      ]
     },
     "execution_count": 34,
     "metadata": {},
     "output_type": "execute_result"
    }
   ],
   "source": [
    "#checking the skewness of the data\n",
    "data.skew()"
   ]
  },
  {
   "cell_type": "code",
   "execution_count": 35,
   "metadata": {},
   "outputs": [
    {
     "data": {
      "text/plain": [
       "F00006009    1\n",
       "F00005599    1\n",
       "F00000196    1\n",
       "F00002837    1\n",
       "F00004954    1\n",
       "            ..\n",
       "F00002221    1\n",
       "F00006576    1\n",
       "F00000530    1\n",
       "F00004842    1\n",
       "F00001177    1\n",
       "Name: ID, Length: 4599, dtype: int64"
      ]
     },
     "execution_count": 35,
     "metadata": {},
     "output_type": "execute_result"
    }
   ],
   "source": [
    "#Lets drop the column ID before removing skewness as the column have unique entries for all the rows.\n",
    "data['ID'].value_counts()"
   ]
  },
  {
   "cell_type": "code",
   "execution_count": 36,
   "metadata": {},
   "outputs": [
    {
     "data": {
      "text/html": [
       "<div>\n",
       "<style scoped>\n",
       "    .dataframe tbody tr th:only-of-type {\n",
       "        vertical-align: middle;\n",
       "    }\n",
       "\n",
       "    .dataframe tbody tr th {\n",
       "        vertical-align: top;\n",
       "    }\n",
       "\n",
       "    .dataframe thead th {\n",
       "        text-align: right;\n",
       "    }\n",
       "</style>\n",
       "<table border=\"1\" class=\"dataframe\">\n",
       "  <thead>\n",
       "    <tr style=\"text-align: right;\">\n",
       "      <th></th>\n",
       "      <th>Estimated_Insects_Count</th>\n",
       "      <th>Crop_Type</th>\n",
       "      <th>Soil_Type</th>\n",
       "      <th>Pesticide_Use_Category</th>\n",
       "      <th>Number_Doses_Week</th>\n",
       "      <th>Number_Weeks_Used</th>\n",
       "      <th>Number_Weeks_Quit</th>\n",
       "      <th>Season</th>\n",
       "      <th>Crop_Damage</th>\n",
       "    </tr>\n",
       "  </thead>\n",
       "  <tbody>\n",
       "    <tr>\n",
       "      <th>0</th>\n",
       "      <td>188</td>\n",
       "      <td>1</td>\n",
       "      <td>0</td>\n",
       "      <td>1</td>\n",
       "      <td>0</td>\n",
       "      <td>0.000000</td>\n",
       "      <td>0</td>\n",
       "      <td>1</td>\n",
       "      <td>0</td>\n",
       "    </tr>\n",
       "    <tr>\n",
       "      <th>1</th>\n",
       "      <td>209</td>\n",
       "      <td>1</td>\n",
       "      <td>0</td>\n",
       "      <td>1</td>\n",
       "      <td>0</td>\n",
       "      <td>0.000000</td>\n",
       "      <td>0</td>\n",
       "      <td>2</td>\n",
       "      <td>1</td>\n",
       "    </tr>\n",
       "    <tr>\n",
       "      <th>2</th>\n",
       "      <td>257</td>\n",
       "      <td>1</td>\n",
       "      <td>0</td>\n",
       "      <td>1</td>\n",
       "      <td>0</td>\n",
       "      <td>0.000000</td>\n",
       "      <td>0</td>\n",
       "      <td>2</td>\n",
       "      <td>1</td>\n",
       "    </tr>\n",
       "    <tr>\n",
       "      <th>3</th>\n",
       "      <td>257</td>\n",
       "      <td>1</td>\n",
       "      <td>1</td>\n",
       "      <td>1</td>\n",
       "      <td>0</td>\n",
       "      <td>0.000000</td>\n",
       "      <td>0</td>\n",
       "      <td>2</td>\n",
       "      <td>1</td>\n",
       "    </tr>\n",
       "    <tr>\n",
       "      <th>4</th>\n",
       "      <td>342</td>\n",
       "      <td>1</td>\n",
       "      <td>0</td>\n",
       "      <td>1</td>\n",
       "      <td>0</td>\n",
       "      <td>0.000000</td>\n",
       "      <td>0</td>\n",
       "      <td>2</td>\n",
       "      <td>1</td>\n",
       "    </tr>\n",
       "    <tr>\n",
       "      <th>...</th>\n",
       "      <td>...</td>\n",
       "      <td>...</td>\n",
       "      <td>...</td>\n",
       "      <td>...</td>\n",
       "      <td>...</td>\n",
       "      <td>...</td>\n",
       "      <td>...</td>\n",
       "      <td>...</td>\n",
       "      <td>...</td>\n",
       "    </tr>\n",
       "    <tr>\n",
       "      <th>4594</th>\n",
       "      <td>2138</td>\n",
       "      <td>0</td>\n",
       "      <td>1</td>\n",
       "      <td>2</td>\n",
       "      <td>20</td>\n",
       "      <td>28.891027</td>\n",
       "      <td>1</td>\n",
       "      <td>1</td>\n",
       "      <td>1</td>\n",
       "    </tr>\n",
       "    <tr>\n",
       "      <th>4595</th>\n",
       "      <td>2139</td>\n",
       "      <td>0</td>\n",
       "      <td>1</td>\n",
       "      <td>2</td>\n",
       "      <td>30</td>\n",
       "      <td>47.000000</td>\n",
       "      <td>2</td>\n",
       "      <td>1</td>\n",
       "      <td>1</td>\n",
       "    </tr>\n",
       "    <tr>\n",
       "      <th>4596</th>\n",
       "      <td>2267</td>\n",
       "      <td>0</td>\n",
       "      <td>1</td>\n",
       "      <td>2</td>\n",
       "      <td>10</td>\n",
       "      <td>7.000000</td>\n",
       "      <td>27</td>\n",
       "      <td>2</td>\n",
       "      <td>0</td>\n",
       "    </tr>\n",
       "    <tr>\n",
       "      <th>4597</th>\n",
       "      <td>2267</td>\n",
       "      <td>0</td>\n",
       "      <td>1</td>\n",
       "      <td>2</td>\n",
       "      <td>10</td>\n",
       "      <td>20.000000</td>\n",
       "      <td>24</td>\n",
       "      <td>2</td>\n",
       "      <td>0</td>\n",
       "    </tr>\n",
       "    <tr>\n",
       "      <th>4598</th>\n",
       "      <td>2267</td>\n",
       "      <td>0</td>\n",
       "      <td>1</td>\n",
       "      <td>2</td>\n",
       "      <td>10</td>\n",
       "      <td>33.000000</td>\n",
       "      <td>17</td>\n",
       "      <td>2</td>\n",
       "      <td>0</td>\n",
       "    </tr>\n",
       "  </tbody>\n",
       "</table>\n",
       "<p>4599 rows × 9 columns</p>\n",
       "</div>"
      ],
      "text/plain": [
       "      Estimated_Insects_Count  Crop_Type  Soil_Type  Pesticide_Use_Category  \\\n",
       "0                         188          1          0                       1   \n",
       "1                         209          1          0                       1   \n",
       "2                         257          1          0                       1   \n",
       "3                         257          1          1                       1   \n",
       "4                         342          1          0                       1   \n",
       "...                       ...        ...        ...                     ...   \n",
       "4594                     2138          0          1                       2   \n",
       "4595                     2139          0          1                       2   \n",
       "4596                     2267          0          1                       2   \n",
       "4597                     2267          0          1                       2   \n",
       "4598                     2267          0          1                       2   \n",
       "\n",
       "      Number_Doses_Week  Number_Weeks_Used  Number_Weeks_Quit  Season  \\\n",
       "0                     0           0.000000                  0       1   \n",
       "1                     0           0.000000                  0       2   \n",
       "2                     0           0.000000                  0       2   \n",
       "3                     0           0.000000                  0       2   \n",
       "4                     0           0.000000                  0       2   \n",
       "...                 ...                ...                ...     ...   \n",
       "4594                 20          28.891027                  1       1   \n",
       "4595                 30          47.000000                  2       1   \n",
       "4596                 10           7.000000                 27       2   \n",
       "4597                 10          20.000000                 24       2   \n",
       "4598                 10          33.000000                 17       2   \n",
       "\n",
       "      Crop_Damage  \n",
       "0               0  \n",
       "1               1  \n",
       "2               1  \n",
       "3               1  \n",
       "4               1  \n",
       "...           ...  \n",
       "4594            1  \n",
       "4595            1  \n",
       "4596            0  \n",
       "4597            0  \n",
       "4598            0  \n",
       "\n",
       "[4599 rows x 9 columns]"
      ]
     },
     "execution_count": 36,
     "metadata": {},
     "output_type": "execute_result"
    }
   ],
   "source": [
    "data.drop(['ID'],axis=1,inplace=True)\n",
    "data"
   ]
  },
  {
   "cell_type": "code",
   "execution_count": 37,
   "metadata": {},
   "outputs": [
    {
     "data": {
      "image/png": "[encoded data removed]",
      "text/plain": [
       "<Figure size 432x288 with 1 Axes>"
      ]
     },
     "metadata": {
      "needs_background": "light"
     },
     "output_type": "display_data"
    },
    {
     "data": {
      "image/png": "[encoded data removed]",
      "text/plain": [
       "<Figure size 432x288 with 1 Axes>"
      ]
     },
     "metadata": {
      "needs_background": "light"
     },
     "output_type": "display_data"
    },
    {
     "data": {
      "image/png": "[encoded data removed]",
      "text/plain": [
       "<Figure size 432x288 with 1 Axes>"
      ]
     },
     "metadata": {
      "needs_background": "light"
     },
     "output_type": "display_data"
    },
    {
     "data": {
      "image/png": "[encoded data removed]",
      "text/plain": [
       "<Figure size 432x288 with 1 Axes>"
      ]
     },
     "metadata": {
      "needs_background": "light"
     },
     "output_type": "display_data"
    },
    {
     "data": {
      "image/png": "[encoded data removed]",
      "text/plain": [
       "<Figure size 432x288 with 1 Axes>"
      ]
     },
     "metadata": {
      "needs_background": "light"
     },
     "output_type": "display_data"
    },
    {
     "data": {
      "image/png": "[encoded data removed]",
      "text/plain": [
       "<Figure size 432x288 with 1 Axes>"
      ]
     },
     "metadata": {
      "needs_background": "light"
     },
     "output_type": "display_data"
    },
    {
     "data": {
      "image/png": "[encoded data removed]",
      "text/plain": [
       "<Figure size 432x288 with 1 Axes>"
      ]
     },
     "metadata": {
      "needs_background": "light"
     },
     "output_type": "display_data"
    },
    {
     "data": {
      "image/png": "[encoded data removed]",
      "text/plain": [
       "<Figure size 432x288 with 1 Axes>"
      ]
     },
     "metadata": {
      "needs_background": "light"
     },
     "output_type": "display_data"
    },
    {
     "data": {
      "image/png": "[encoded data removed]",
      "text/plain": [
       "<Figure size 432x288 with 1 Axes>"
      ]
     },
     "metadata": {
      "needs_background": "light"
     },
     "output_type": "display_data"
    }
   ],
   "source": [
    "#Checking for outliers\n",
    "for i in data.columns:\n",
    "    sns.boxplot(data[i])\n",
    "    plt.show()"
   ]
  },
  {
   "cell_type": "markdown",
   "metadata": {},
   "source": [
    "Here the columns: Estimated_Insects_Count, Number_Doses_Week,Number_Weeks_Used,Number_Weeks_Quit have outliers. We will remove the outliers using zscore."
   ]
  },
  {
   "cell_type": "code",
   "execution_count": 38,
   "metadata": {},
   "outputs": [],
   "source": [
    "#Removing skewness using power transfrom for the variables which are  not categorical.\n",
    "from sklearn.preprocessing import PowerTransformer\n",
    "pt=PowerTransformer(method='yeo-johnson')"
   ]
  },
  {
   "cell_type": "code",
   "execution_count": 39,
   "metadata": {},
   "outputs": [],
   "source": [
    "list=['Estimated_Insects_Count','Number_Weeks_Used','Number_Doses_Week','Number_Weeks_Quit']\n",
    "for i in list:\n",
    "    if data.skew().loc[i]>0.55:\n",
    "        data[i]=pt.fit_transform(data[i].values.reshape(-1,1))\n",
    "    else:\n",
    "        data[i]=data[i]"
   ]
  },
  {
   "cell_type": "code",
   "execution_count": 40,
   "metadata": {},
   "outputs": [
    {
     "data": {
      "text/plain": [
       "Estimated_Insects_Count   -0.032846\n",
       "Crop_Type                  1.318693\n",
       "Soil_Type                  0.093631\n",
       "Pesticide_Use_Category     0.678586\n",
       "Number_Doses_Week          0.008110\n",
       "Number_Weeks_Used          0.278664\n",
       "Number_Weeks_Quit         -0.089868\n",
       "Season                     0.144841\n",
       "Crop_Damage                2.306933\n",
       "dtype: float64"
      ]
     },
     "execution_count": 40,
     "metadata": {},
     "output_type": "execute_result"
    }
   ],
   "source": [
    "data.skew()"
   ]
  },
  {
   "cell_type": "code",
   "execution_count": 41,
   "metadata": {},
   "outputs": [],
   "source": [
    "#Removing the outliers.\n",
    "from scipy.stats import zscore\n",
    "z=np.abs(zscore(data))"
   ]
  },
  {
   "cell_type": "code",
   "execution_count": 42,
   "metadata": {},
   "outputs": [
    {
     "data": {
      "text/html": [
       "<div>\n",
       "<style scoped>\n",
       "    .dataframe tbody tr th:only-of-type {\n",
       "        vertical-align: middle;\n",
       "    }\n",
       "\n",
       "    .dataframe tbody tr th {\n",
       "        vertical-align: top;\n",
       "    }\n",
       "\n",
       "    .dataframe thead th {\n",
       "        text-align: right;\n",
       "    }\n",
       "</style>\n",
       "<table border=\"1\" class=\"dataframe\">\n",
       "  <thead>\n",
       "    <tr style=\"text-align: right;\">\n",
       "      <th></th>\n",
       "      <th>Estimated_Insects_Count</th>\n",
       "      <th>Crop_Type</th>\n",
       "      <th>Soil_Type</th>\n",
       "      <th>Pesticide_Use_Category</th>\n",
       "      <th>Number_Doses_Week</th>\n",
       "      <th>Number_Weeks_Used</th>\n",
       "      <th>Number_Weeks_Quit</th>\n",
       "      <th>Season</th>\n",
       "      <th>Crop_Damage</th>\n",
       "    </tr>\n",
       "  </thead>\n",
       "  <tbody>\n",
       "    <tr>\n",
       "      <th>0</th>\n",
       "      <td>-2.244762</td>\n",
       "      <td>1</td>\n",
       "      <td>0</td>\n",
       "      <td>1</td>\n",
       "      <td>-2.936955</td>\n",
       "      <td>0.000000</td>\n",
       "      <td>-1.240226</td>\n",
       "      <td>1</td>\n",
       "      <td>0</td>\n",
       "    </tr>\n",
       "    <tr>\n",
       "      <th>1</th>\n",
       "      <td>-2.146827</td>\n",
       "      <td>1</td>\n",
       "      <td>0</td>\n",
       "      <td>1</td>\n",
       "      <td>-2.936955</td>\n",
       "      <td>0.000000</td>\n",
       "      <td>-1.240226</td>\n",
       "      <td>2</td>\n",
       "      <td>1</td>\n",
       "    </tr>\n",
       "    <tr>\n",
       "      <th>2</th>\n",
       "      <td>-1.946443</td>\n",
       "      <td>1</td>\n",
       "      <td>0</td>\n",
       "      <td>1</td>\n",
       "      <td>-2.936955</td>\n",
       "      <td>0.000000</td>\n",
       "      <td>-1.240226</td>\n",
       "      <td>2</td>\n",
       "      <td>1</td>\n",
       "    </tr>\n",
       "    <tr>\n",
       "      <th>3</th>\n",
       "      <td>-1.946443</td>\n",
       "      <td>1</td>\n",
       "      <td>1</td>\n",
       "      <td>1</td>\n",
       "      <td>-2.936955</td>\n",
       "      <td>0.000000</td>\n",
       "      <td>-1.240226</td>\n",
       "      <td>2</td>\n",
       "      <td>1</td>\n",
       "    </tr>\n",
       "    <tr>\n",
       "      <th>4</th>\n",
       "      <td>-1.648325</td>\n",
       "      <td>1</td>\n",
       "      <td>0</td>\n",
       "      <td>1</td>\n",
       "      <td>-2.936955</td>\n",
       "      <td>0.000000</td>\n",
       "      <td>-1.240226</td>\n",
       "      <td>2</td>\n",
       "      <td>1</td>\n",
       "    </tr>\n",
       "    <tr>\n",
       "      <th>...</th>\n",
       "      <td>...</td>\n",
       "      <td>...</td>\n",
       "      <td>...</td>\n",
       "      <td>...</td>\n",
       "      <td>...</td>\n",
       "      <td>...</td>\n",
       "      <td>...</td>\n",
       "      <td>...</td>\n",
       "      <td>...</td>\n",
       "    </tr>\n",
       "    <tr>\n",
       "      <th>4594</th>\n",
       "      <td>1.003197</td>\n",
       "      <td>0</td>\n",
       "      <td>1</td>\n",
       "      <td>2</td>\n",
       "      <td>-0.279016</td>\n",
       "      <td>28.891027</td>\n",
       "      <td>-0.788394</td>\n",
       "      <td>1</td>\n",
       "      <td>1</td>\n",
       "    </tr>\n",
       "    <tr>\n",
       "      <th>4595</th>\n",
       "      <td>1.004073</td>\n",
       "      <td>0</td>\n",
       "      <td>1</td>\n",
       "      <td>2</td>\n",
       "      <td>0.381917</td>\n",
       "      <td>47.000000</td>\n",
       "      <td>-0.504125</td>\n",
       "      <td>1</td>\n",
       "      <td>1</td>\n",
       "    </tr>\n",
       "    <tr>\n",
       "      <th>4596</th>\n",
       "      <td>1.114021</td>\n",
       "      <td>0</td>\n",
       "      <td>1</td>\n",
       "      <td>2</td>\n",
       "      <td>-1.160435</td>\n",
       "      <td>7.000000</td>\n",
       "      <td>1.368852</td>\n",
       "      <td>2</td>\n",
       "      <td>0</td>\n",
       "    </tr>\n",
       "    <tr>\n",
       "      <th>4597</th>\n",
       "      <td>1.114021</td>\n",
       "      <td>0</td>\n",
       "      <td>1</td>\n",
       "      <td>2</td>\n",
       "      <td>-1.160435</td>\n",
       "      <td>20.000000</td>\n",
       "      <td>1.259832</td>\n",
       "      <td>2</td>\n",
       "      <td>0</td>\n",
       "    </tr>\n",
       "    <tr>\n",
       "      <th>4598</th>\n",
       "      <td>1.114021</td>\n",
       "      <td>0</td>\n",
       "      <td>1</td>\n",
       "      <td>2</td>\n",
       "      <td>-1.160435</td>\n",
       "      <td>33.000000</td>\n",
       "      <td>0.952946</td>\n",
       "      <td>2</td>\n",
       "      <td>0</td>\n",
       "    </tr>\n",
       "  </tbody>\n",
       "</table>\n",
       "<p>4477 rows × 9 columns</p>\n",
       "</div>"
      ],
      "text/plain": [
       "      Estimated_Insects_Count  Crop_Type  Soil_Type  Pesticide_Use_Category  \\\n",
       "0                   -2.244762          1          0                       1   \n",
       "1                   -2.146827          1          0                       1   \n",
       "2                   -1.946443          1          0                       1   \n",
       "3                   -1.946443          1          1                       1   \n",
       "4                   -1.648325          1          0                       1   \n",
       "...                       ...        ...        ...                     ...   \n",
       "4594                 1.003197          0          1                       2   \n",
       "4595                 1.004073          0          1                       2   \n",
       "4596                 1.114021          0          1                       2   \n",
       "4597                 1.114021          0          1                       2   \n",
       "4598                 1.114021          0          1                       2   \n",
       "\n",
       "      Number_Doses_Week  Number_Weeks_Used  Number_Weeks_Quit  Season  \\\n",
       "0             -2.936955           0.000000          -1.240226       1   \n",
       "1             -2.936955           0.000000          -1.240226       2   \n",
       "2             -2.936955           0.000000          -1.240226       2   \n",
       "3             -2.936955           0.000000          -1.240226       2   \n",
       "4             -2.936955           0.000000          -1.240226       2   \n",
       "...                 ...                ...                ...     ...   \n",
       "4594          -0.279016          28.891027          -0.788394       1   \n",
       "4595           0.381917          47.000000          -0.504125       1   \n",
       "4596          -1.160435           7.000000           1.368852       2   \n",
       "4597          -1.160435          20.000000           1.259832       2   \n",
       "4598          -1.160435          33.000000           0.952946       2   \n",
       "\n",
       "      Crop_Damage  \n",
       "0               0  \n",
       "1               1  \n",
       "2               1  \n",
       "3               1  \n",
       "4               1  \n",
       "...           ...  \n",
       "4594            1  \n",
       "4595            1  \n",
       "4596            0  \n",
       "4597            0  \n",
       "4598            0  \n",
       "\n",
       "[4477 rows x 9 columns]"
      ]
     },
     "execution_count": 42,
     "metadata": {},
     "output_type": "execute_result"
    }
   ],
   "source": [
    "data_new=data[(z<3).all(axis=1)]\n",
    "data_new"
   ]
  },
  {
   "cell_type": "code",
   "execution_count": 43,
   "metadata": {},
   "outputs": [
    {
     "name": "stdout",
     "output_type": "stream",
     "text": [
      "Shape before removing outliers:  (4599, 9) \t shape after removing outliers:  (4477, 9)\n"
     ]
    }
   ],
   "source": [
    "print('Shape before removing outliers: ',data.shape,'\\t shape after removing outliers: ',data_new.shape)"
   ]
  },
  {
   "cell_type": "code",
   "execution_count": 44,
   "metadata": {},
   "outputs": [
    {
     "data": {
      "text/plain": [
       "Estimated_Insects_Count   -0.031759\n",
       "Crop_Type                  1.319581\n",
       "Soil_Type                  0.085431\n",
       "Pesticide_Use_Category     0.745166\n",
       "Number_Doses_Week          0.025111\n",
       "Number_Weeks_Used          0.269942\n",
       "Number_Weeks_Quit         -0.120820\n",
       "Season                     0.142374\n",
       "Crop_Damage                1.987193\n",
       "dtype: float64"
      ]
     },
     "execution_count": 44,
     "metadata": {},
     "output_type": "execute_result"
    }
   ],
   "source": [
    "data_new.skew()"
   ]
  },
  {
   "cell_type": "code",
   "execution_count": 45,
   "metadata": {},
   "outputs": [],
   "source": [
    "#Splitting the data into x_train and y_train\n",
    "x_train=data_new.drop(['Crop_Damage'],axis=1)\n",
    "y_train=data_new['Crop_Damage']"
   ]
  },
  {
   "cell_type": "code",
   "execution_count": 46,
   "metadata": {},
   "outputs": [
    {
     "data": {
      "text/html": [
       "<div>\n",
       "<style scoped>\n",
       "    .dataframe tbody tr th:only-of-type {\n",
       "        vertical-align: middle;\n",
       "    }\n",
       "\n",
       "    .dataframe tbody tr th {\n",
       "        vertical-align: top;\n",
       "    }\n",
       "\n",
       "    .dataframe thead th {\n",
       "        text-align: right;\n",
       "    }\n",
       "</style>\n",
       "<table border=\"1\" class=\"dataframe\">\n",
       "  <thead>\n",
       "    <tr style=\"text-align: right;\">\n",
       "      <th></th>\n",
       "      <th>Estimated_Insects_Count</th>\n",
       "      <th>Crop_Type</th>\n",
       "      <th>Soil_Type</th>\n",
       "      <th>Pesticide_Use_Category</th>\n",
       "      <th>Number_Doses_Week</th>\n",
       "      <th>Number_Weeks_Used</th>\n",
       "      <th>Number_Weeks_Quit</th>\n",
       "      <th>Season</th>\n",
       "    </tr>\n",
       "  </thead>\n",
       "  <tbody>\n",
       "    <tr>\n",
       "      <th>0</th>\n",
       "      <td>-2.244762</td>\n",
       "      <td>1</td>\n",
       "      <td>0</td>\n",
       "      <td>1</td>\n",
       "      <td>-2.936955</td>\n",
       "      <td>0.000000</td>\n",
       "      <td>-1.240226</td>\n",
       "      <td>1</td>\n",
       "    </tr>\n",
       "    <tr>\n",
       "      <th>1</th>\n",
       "      <td>-2.146827</td>\n",
       "      <td>1</td>\n",
       "      <td>0</td>\n",
       "      <td>1</td>\n",
       "      <td>-2.936955</td>\n",
       "      <td>0.000000</td>\n",
       "      <td>-1.240226</td>\n",
       "      <td>2</td>\n",
       "    </tr>\n",
       "    <tr>\n",
       "      <th>2</th>\n",
       "      <td>-1.946443</td>\n",
       "      <td>1</td>\n",
       "      <td>0</td>\n",
       "      <td>1</td>\n",
       "      <td>-2.936955</td>\n",
       "      <td>0.000000</td>\n",
       "      <td>-1.240226</td>\n",
       "      <td>2</td>\n",
       "    </tr>\n",
       "    <tr>\n",
       "      <th>3</th>\n",
       "      <td>-1.946443</td>\n",
       "      <td>1</td>\n",
       "      <td>1</td>\n",
       "      <td>1</td>\n",
       "      <td>-2.936955</td>\n",
       "      <td>0.000000</td>\n",
       "      <td>-1.240226</td>\n",
       "      <td>2</td>\n",
       "    </tr>\n",
       "    <tr>\n",
       "      <th>4</th>\n",
       "      <td>-1.648325</td>\n",
       "      <td>1</td>\n",
       "      <td>0</td>\n",
       "      <td>1</td>\n",
       "      <td>-2.936955</td>\n",
       "      <td>0.000000</td>\n",
       "      <td>-1.240226</td>\n",
       "      <td>2</td>\n",
       "    </tr>\n",
       "    <tr>\n",
       "      <th>...</th>\n",
       "      <td>...</td>\n",
       "      <td>...</td>\n",
       "      <td>...</td>\n",
       "      <td>...</td>\n",
       "      <td>...</td>\n",
       "      <td>...</td>\n",
       "      <td>...</td>\n",
       "      <td>...</td>\n",
       "    </tr>\n",
       "    <tr>\n",
       "      <th>4594</th>\n",
       "      <td>1.003197</td>\n",
       "      <td>0</td>\n",
       "      <td>1</td>\n",
       "      <td>2</td>\n",
       "      <td>-0.279016</td>\n",
       "      <td>28.891027</td>\n",
       "      <td>-0.788394</td>\n",
       "      <td>1</td>\n",
       "    </tr>\n",
       "    <tr>\n",
       "      <th>4595</th>\n",
       "      <td>1.004073</td>\n",
       "      <td>0</td>\n",
       "      <td>1</td>\n",
       "      <td>2</td>\n",
       "      <td>0.381917</td>\n",
       "      <td>47.000000</td>\n",
       "      <td>-0.504125</td>\n",
       "      <td>1</td>\n",
       "    </tr>\n",
       "    <tr>\n",
       "      <th>4596</th>\n",
       "      <td>1.114021</td>\n",
       "      <td>0</td>\n",
       "      <td>1</td>\n",
       "      <td>2</td>\n",
       "      <td>-1.160435</td>\n",
       "      <td>7.000000</td>\n",
       "      <td>1.368852</td>\n",
       "      <td>2</td>\n",
       "    </tr>\n",
       "    <tr>\n",
       "      <th>4597</th>\n",
       "      <td>1.114021</td>\n",
       "      <td>0</td>\n",
       "      <td>1</td>\n",
       "      <td>2</td>\n",
       "      <td>-1.160435</td>\n",
       "      <td>20.000000</td>\n",
       "      <td>1.259832</td>\n",
       "      <td>2</td>\n",
       "    </tr>\n",
       "    <tr>\n",
       "      <th>4598</th>\n",
       "      <td>1.114021</td>\n",
       "      <td>0</td>\n",
       "      <td>1</td>\n",
       "      <td>2</td>\n",
       "      <td>-1.160435</td>\n",
       "      <td>33.000000</td>\n",
       "      <td>0.952946</td>\n",
       "      <td>2</td>\n",
       "    </tr>\n",
       "  </tbody>\n",
       "</table>\n",
       "<p>4477 rows × 8 columns</p>\n",
       "</div>"
      ],
      "text/plain": [
       "      Estimated_Insects_Count  Crop_Type  Soil_Type  Pesticide_Use_Category  \\\n",
       "0                   -2.244762          1          0                       1   \n",
       "1                   -2.146827          1          0                       1   \n",
       "2                   -1.946443          1          0                       1   \n",
       "3                   -1.946443          1          1                       1   \n",
       "4                   -1.648325          1          0                       1   \n",
       "...                       ...        ...        ...                     ...   \n",
       "4594                 1.003197          0          1                       2   \n",
       "4595                 1.004073          0          1                       2   \n",
       "4596                 1.114021          0          1                       2   \n",
       "4597                 1.114021          0          1                       2   \n",
       "4598                 1.114021          0          1                       2   \n",
       "\n",
       "      Number_Doses_Week  Number_Weeks_Used  Number_Weeks_Quit  Season  \n",
       "0             -2.936955           0.000000          -1.240226       1  \n",
       "1             -2.936955           0.000000          -1.240226       2  \n",
       "2             -2.936955           0.000000          -1.240226       2  \n",
       "3             -2.936955           0.000000          -1.240226       2  \n",
       "4             -2.936955           0.000000          -1.240226       2  \n",
       "...                 ...                ...                ...     ...  \n",
       "4594          -0.279016          28.891027          -0.788394       1  \n",
       "4595           0.381917          47.000000          -0.504125       1  \n",
       "4596          -1.160435           7.000000           1.368852       2  \n",
       "4597          -1.160435          20.000000           1.259832       2  \n",
       "4598          -1.160435          33.000000           0.952946       2  \n",
       "\n",
       "[4477 rows x 8 columns]"
      ]
     },
     "execution_count": 46,
     "metadata": {},
     "output_type": "execute_result"
    }
   ],
   "source": [
    "x_train"
   ]
  },
  {
   "cell_type": "code",
   "execution_count": 47,
   "metadata": {},
   "outputs": [
    {
     "data": {
      "text/plain": [
       "0       0\n",
       "1       1\n",
       "2       1\n",
       "3       1\n",
       "4       1\n",
       "       ..\n",
       "4594    1\n",
       "4595    1\n",
       "4596    0\n",
       "4597    0\n",
       "4598    0\n",
       "Name: Crop_Damage, Length: 4477, dtype: int64"
      ]
     },
     "execution_count": 47,
     "metadata": {},
     "output_type": "execute_result"
    }
   ],
   "source": [
    "y_train"
   ]
  },
  {
   "cell_type": "code",
   "execution_count": 48,
   "metadata": {},
   "outputs": [
    {
     "data": {
      "text/html": [
       "<div>\n",
       "<style scoped>\n",
       "    .dataframe tbody tr th:only-of-type {\n",
       "        vertical-align: middle;\n",
       "    }\n",
       "\n",
       "    .dataframe tbody tr th {\n",
       "        vertical-align: top;\n",
       "    }\n",
       "\n",
       "    .dataframe thead th {\n",
       "        text-align: right;\n",
       "    }\n",
       "</style>\n",
       "<table border=\"1\" class=\"dataframe\">\n",
       "  <thead>\n",
       "    <tr style=\"text-align: right;\">\n",
       "      <th></th>\n",
       "      <th>ID</th>\n",
       "      <th>Estimated_Insects_Count</th>\n",
       "      <th>Crop_Type</th>\n",
       "      <th>Soil_Type</th>\n",
       "      <th>Pesticide_Use_Category</th>\n",
       "      <th>Number_Doses_Week</th>\n",
       "      <th>Number_Weeks_Used</th>\n",
       "      <th>Number_Weeks_Quit</th>\n",
       "      <th>Season</th>\n",
       "    </tr>\n",
       "  </thead>\n",
       "  <tbody>\n",
       "    <tr>\n",
       "      <th>0</th>\n",
       "      <td>F00000002</td>\n",
       "      <td>188</td>\n",
       "      <td>1</td>\n",
       "      <td>1</td>\n",
       "      <td>1</td>\n",
       "      <td>0</td>\n",
       "      <td>NaN</td>\n",
       "      <td>0</td>\n",
       "      <td>2</td>\n",
       "    </tr>\n",
       "    <tr>\n",
       "      <th>1</th>\n",
       "      <td>F00000007</td>\n",
       "      <td>410</td>\n",
       "      <td>1</td>\n",
       "      <td>1</td>\n",
       "      <td>1</td>\n",
       "      <td>0</td>\n",
       "      <td>0.0</td>\n",
       "      <td>0</td>\n",
       "      <td>2</td>\n",
       "    </tr>\n",
       "    <tr>\n",
       "      <th>2</th>\n",
       "      <td>F00000011</td>\n",
       "      <td>626</td>\n",
       "      <td>1</td>\n",
       "      <td>0</td>\n",
       "      <td>1</td>\n",
       "      <td>0</td>\n",
       "      <td>0.0</td>\n",
       "      <td>0</td>\n",
       "      <td>2</td>\n",
       "    </tr>\n",
       "    <tr>\n",
       "      <th>3</th>\n",
       "      <td>F00000013</td>\n",
       "      <td>731</td>\n",
       "      <td>1</td>\n",
       "      <td>0</td>\n",
       "      <td>1</td>\n",
       "      <td>0</td>\n",
       "      <td>0.0</td>\n",
       "      <td>0</td>\n",
       "      <td>2</td>\n",
       "    </tr>\n",
       "    <tr>\n",
       "      <th>4</th>\n",
       "      <td>F00000014</td>\n",
       "      <td>789</td>\n",
       "      <td>0</td>\n",
       "      <td>0</td>\n",
       "      <td>1</td>\n",
       "      <td>0</td>\n",
       "      <td>0.0</td>\n",
       "      <td>0</td>\n",
       "      <td>1</td>\n",
       "    </tr>\n",
       "    <tr>\n",
       "      <th>...</th>\n",
       "      <td>...</td>\n",
       "      <td>...</td>\n",
       "      <td>...</td>\n",
       "      <td>...</td>\n",
       "      <td>...</td>\n",
       "      <td>...</td>\n",
       "      <td>...</td>\n",
       "      <td>...</td>\n",
       "      <td>...</td>\n",
       "    </tr>\n",
       "    <tr>\n",
       "      <th>1194</th>\n",
       "      <td>F00003133</td>\n",
       "      <td>1132</td>\n",
       "      <td>0</td>\n",
       "      <td>1</td>\n",
       "      <td>2</td>\n",
       "      <td>40</td>\n",
       "      <td>34.0</td>\n",
       "      <td>7</td>\n",
       "      <td>3</td>\n",
       "    </tr>\n",
       "    <tr>\n",
       "      <th>1195</th>\n",
       "      <td>F00003135</td>\n",
       "      <td>1132</td>\n",
       "      <td>0</td>\n",
       "      <td>1</td>\n",
       "      <td>2</td>\n",
       "      <td>40</td>\n",
       "      <td>25.0</td>\n",
       "      <td>3</td>\n",
       "      <td>1</td>\n",
       "    </tr>\n",
       "    <tr>\n",
       "      <th>1196</th>\n",
       "      <td>F00003138</td>\n",
       "      <td>1132</td>\n",
       "      <td>0</td>\n",
       "      <td>1</td>\n",
       "      <td>2</td>\n",
       "      <td>20</td>\n",
       "      <td>13.0</td>\n",
       "      <td>23</td>\n",
       "      <td>1</td>\n",
       "    </tr>\n",
       "    <tr>\n",
       "      <th>1197</th>\n",
       "      <td>F00003149</td>\n",
       "      <td>1212</td>\n",
       "      <td>0</td>\n",
       "      <td>1</td>\n",
       "      <td>2</td>\n",
       "      <td>10</td>\n",
       "      <td>35.0</td>\n",
       "      <td>5</td>\n",
       "      <td>1</td>\n",
       "    </tr>\n",
       "    <tr>\n",
       "      <th>1198</th>\n",
       "      <td>F00003150</td>\n",
       "      <td>1212</td>\n",
       "      <td>0</td>\n",
       "      <td>1</td>\n",
       "      <td>2</td>\n",
       "      <td>15</td>\n",
       "      <td>NaN</td>\n",
       "      <td>20</td>\n",
       "      <td>3</td>\n",
       "    </tr>\n",
       "  </tbody>\n",
       "</table>\n",
       "<p>1199 rows × 9 columns</p>\n",
       "</div>"
      ],
      "text/plain": [
       "             ID  Estimated_Insects_Count  Crop_Type  Soil_Type  \\\n",
       "0     F00000002                      188          1          1   \n",
       "1     F00000007                      410          1          1   \n",
       "2     F00000011                      626          1          0   \n",
       "3     F00000013                      731          1          0   \n",
       "4     F00000014                      789          0          0   \n",
       "...         ...                      ...        ...        ...   \n",
       "1194  F00003133                     1132          0          1   \n",
       "1195  F00003135                     1132          0          1   \n",
       "1196  F00003138                     1132          0          1   \n",
       "1197  F00003149                     1212          0          1   \n",
       "1198  F00003150                     1212          0          1   \n",
       "\n",
       "      Pesticide_Use_Category  Number_Doses_Week  Number_Weeks_Used  \\\n",
       "0                          1                  0                NaN   \n",
       "1                          1                  0                0.0   \n",
       "2                          1                  0                0.0   \n",
       "3                          1                  0                0.0   \n",
       "4                          1                  0                0.0   \n",
       "...                      ...                ...                ...   \n",
       "1194                       2                 40               34.0   \n",
       "1195                       2                 40               25.0   \n",
       "1196                       2                 20               13.0   \n",
       "1197                       2                 10               35.0   \n",
       "1198                       2                 15                NaN   \n",
       "\n",
       "      Number_Weeks_Quit  Season  \n",
       "0                     0       2  \n",
       "1                     0       2  \n",
       "2                     0       2  \n",
       "3                     0       2  \n",
       "4                     0       1  \n",
       "...                 ...     ...  \n",
       "1194                  7       3  \n",
       "1195                  3       1  \n",
       "1196                 23       1  \n",
       "1197                  5       1  \n",
       "1198                 20       3  \n",
       "\n",
       "[1199 rows x 9 columns]"
      ]
     },
     "execution_count": 48,
     "metadata": {},
     "output_type": "execute_result"
    }
   ],
   "source": [
    "#Now for x_test we need to import the test data of agriculture dataset and we will remove the skewness and outliers and proceed ahead.\n",
    "test=pd.read_excel('test_agriculture.xlsx')\n",
    "test"
   ]
  },
  {
   "cell_type": "code",
   "execution_count": 49,
   "metadata": {},
   "outputs": [
    {
     "data": {
      "text/html": [
       "<div>\n",
       "<style scoped>\n",
       "    .dataframe tbody tr th:only-of-type {\n",
       "        vertical-align: middle;\n",
       "    }\n",
       "\n",
       "    .dataframe tbody tr th {\n",
       "        vertical-align: top;\n",
       "    }\n",
       "\n",
       "    .dataframe thead th {\n",
       "        text-align: right;\n",
       "    }\n",
       "</style>\n",
       "<table border=\"1\" class=\"dataframe\">\n",
       "  <thead>\n",
       "    <tr style=\"text-align: right;\">\n",
       "      <th></th>\n",
       "      <th>Estimated_Insects_Count</th>\n",
       "      <th>Crop_Type</th>\n",
       "      <th>Soil_Type</th>\n",
       "      <th>Pesticide_Use_Category</th>\n",
       "      <th>Number_Doses_Week</th>\n",
       "      <th>Number_Weeks_Used</th>\n",
       "      <th>Number_Weeks_Quit</th>\n",
       "      <th>Season</th>\n",
       "    </tr>\n",
       "  </thead>\n",
       "  <tbody>\n",
       "    <tr>\n",
       "      <th>0</th>\n",
       "      <td>188</td>\n",
       "      <td>1</td>\n",
       "      <td>1</td>\n",
       "      <td>1</td>\n",
       "      <td>0</td>\n",
       "      <td>NaN</td>\n",
       "      <td>0</td>\n",
       "      <td>2</td>\n",
       "    </tr>\n",
       "    <tr>\n",
       "      <th>1</th>\n",
       "      <td>410</td>\n",
       "      <td>1</td>\n",
       "      <td>1</td>\n",
       "      <td>1</td>\n",
       "      <td>0</td>\n",
       "      <td>0.0</td>\n",
       "      <td>0</td>\n",
       "      <td>2</td>\n",
       "    </tr>\n",
       "    <tr>\n",
       "      <th>2</th>\n",
       "      <td>626</td>\n",
       "      <td>1</td>\n",
       "      <td>0</td>\n",
       "      <td>1</td>\n",
       "      <td>0</td>\n",
       "      <td>0.0</td>\n",
       "      <td>0</td>\n",
       "      <td>2</td>\n",
       "    </tr>\n",
       "    <tr>\n",
       "      <th>3</th>\n",
       "      <td>731</td>\n",
       "      <td>1</td>\n",
       "      <td>0</td>\n",
       "      <td>1</td>\n",
       "      <td>0</td>\n",
       "      <td>0.0</td>\n",
       "      <td>0</td>\n",
       "      <td>2</td>\n",
       "    </tr>\n",
       "    <tr>\n",
       "      <th>4</th>\n",
       "      <td>789</td>\n",
       "      <td>0</td>\n",
       "      <td>0</td>\n",
       "      <td>1</td>\n",
       "      <td>0</td>\n",
       "      <td>0.0</td>\n",
       "      <td>0</td>\n",
       "      <td>1</td>\n",
       "    </tr>\n",
       "    <tr>\n",
       "      <th>...</th>\n",
       "      <td>...</td>\n",
       "      <td>...</td>\n",
       "      <td>...</td>\n",
       "      <td>...</td>\n",
       "      <td>...</td>\n",
       "      <td>...</td>\n",
       "      <td>...</td>\n",
       "      <td>...</td>\n",
       "    </tr>\n",
       "    <tr>\n",
       "      <th>1194</th>\n",
       "      <td>1132</td>\n",
       "      <td>0</td>\n",
       "      <td>1</td>\n",
       "      <td>2</td>\n",
       "      <td>40</td>\n",
       "      <td>34.0</td>\n",
       "      <td>7</td>\n",
       "      <td>3</td>\n",
       "    </tr>\n",
       "    <tr>\n",
       "      <th>1195</th>\n",
       "      <td>1132</td>\n",
       "      <td>0</td>\n",
       "      <td>1</td>\n",
       "      <td>2</td>\n",
       "      <td>40</td>\n",
       "      <td>25.0</td>\n",
       "      <td>3</td>\n",
       "      <td>1</td>\n",
       "    </tr>\n",
       "    <tr>\n",
       "      <th>1196</th>\n",
       "      <td>1132</td>\n",
       "      <td>0</td>\n",
       "      <td>1</td>\n",
       "      <td>2</td>\n",
       "      <td>20</td>\n",
       "      <td>13.0</td>\n",
       "      <td>23</td>\n",
       "      <td>1</td>\n",
       "    </tr>\n",
       "    <tr>\n",
       "      <th>1197</th>\n",
       "      <td>1212</td>\n",
       "      <td>0</td>\n",
       "      <td>1</td>\n",
       "      <td>2</td>\n",
       "      <td>10</td>\n",
       "      <td>35.0</td>\n",
       "      <td>5</td>\n",
       "      <td>1</td>\n",
       "    </tr>\n",
       "    <tr>\n",
       "      <th>1198</th>\n",
       "      <td>1212</td>\n",
       "      <td>0</td>\n",
       "      <td>1</td>\n",
       "      <td>2</td>\n",
       "      <td>15</td>\n",
       "      <td>NaN</td>\n",
       "      <td>20</td>\n",
       "      <td>3</td>\n",
       "    </tr>\n",
       "  </tbody>\n",
       "</table>\n",
       "<p>1199 rows × 8 columns</p>\n",
       "</div>"
      ],
      "text/plain": [
       "      Estimated_Insects_Count  Crop_Type  Soil_Type  Pesticide_Use_Category  \\\n",
       "0                         188          1          1                       1   \n",
       "1                         410          1          1                       1   \n",
       "2                         626          1          0                       1   \n",
       "3                         731          1          0                       1   \n",
       "4                         789          0          0                       1   \n",
       "...                       ...        ...        ...                     ...   \n",
       "1194                     1132          0          1                       2   \n",
       "1195                     1132          0          1                       2   \n",
       "1196                     1132          0          1                       2   \n",
       "1197                     1212          0          1                       2   \n",
       "1198                     1212          0          1                       2   \n",
       "\n",
       "      Number_Doses_Week  Number_Weeks_Used  Number_Weeks_Quit  Season  \n",
       "0                     0                NaN                  0       2  \n",
       "1                     0                0.0                  0       2  \n",
       "2                     0                0.0                  0       2  \n",
       "3                     0                0.0                  0       2  \n",
       "4                     0                0.0                  0       1  \n",
       "...                 ...                ...                ...     ...  \n",
       "1194                 40               34.0                  7       3  \n",
       "1195                 40               25.0                  3       1  \n",
       "1196                 20               13.0                 23       1  \n",
       "1197                 10               35.0                  5       1  \n",
       "1198                 15                NaN                 20       3  \n",
       "\n",
       "[1199 rows x 8 columns]"
      ]
     },
     "execution_count": 49,
     "metadata": {},
     "output_type": "execute_result"
    }
   ],
   "source": [
    "#Dropping the ID column here too\n",
    "test.drop(['ID'],axis=1,inplace=True)\n",
    "test"
   ]
  },
  {
   "cell_type": "code",
   "execution_count": 50,
   "metadata": {},
   "outputs": [
    {
     "data": {
      "text/plain": [
       "Estimated_Insects_Count      0\n",
       "Crop_Type                    0\n",
       "Soil_Type                    0\n",
       "Pesticide_Use_Category       0\n",
       "Number_Doses_Week            0\n",
       "Number_Weeks_Used          119\n",
       "Number_Weeks_Quit            0\n",
       "Season                       0\n",
       "dtype: int64"
      ]
     },
     "execution_count": 50,
     "metadata": {},
     "output_type": "execute_result"
    }
   ],
   "source": [
    "#here we can see NaN values in Number_Weeks_Used\n",
    "test.isnull().sum()"
   ]
  },
  {
   "cell_type": "code",
   "execution_count": 51,
   "metadata": {},
   "outputs": [
    {
     "data": {
      "text/plain": [
       "<matplotlib.axes._subplots.AxesSubplot at 0x1dde5eaeb20>"
      ]
     },
     "execution_count": 51,
     "metadata": {},
     "output_type": "execute_result"
    },
    {
     "data": {
      "image/png": "[encoded data removed]",
      "text/plain": [
       "<Figure size 432x288 with 1 Axes>"
      ]
     },
     "metadata": {
      "needs_background": "light"
     },
     "output_type": "display_data"
    }
   ],
   "source": [
    "#Removing null values\n",
    "sns.distplot(test['Number_Weeks_Used'])"
   ]
  },
  {
   "cell_type": "code",
   "execution_count": 52,
   "metadata": {},
   "outputs": [],
   "source": [
    "#Number_Weeks_Used is a normally distributed data we will use mean to replace the null values.\n",
    "imp=SimpleImputer(strategy='mean')\n",
    "test['Number_Weeks_Used']=imp.fit_transform(test['Number_Weeks_Used'].values.reshape(-1,1))"
   ]
  },
  {
   "cell_type": "code",
   "execution_count": 53,
   "metadata": {},
   "outputs": [
    {
     "data": {
      "text/plain": [
       "Estimated_Insects_Count    0\n",
       "Crop_Type                  0\n",
       "Soil_Type                  0\n",
       "Pesticide_Use_Category     0\n",
       "Number_Doses_Week          0\n",
       "Number_Weeks_Used          0\n",
       "Number_Weeks_Quit          0\n",
       "Season                     0\n",
       "dtype: int64"
      ]
     },
     "execution_count": 53,
     "metadata": {},
     "output_type": "execute_result"
    }
   ],
   "source": [
    "test.isnull().sum()"
   ]
  },
  {
   "cell_type": "code",
   "execution_count": 54,
   "metadata": {},
   "outputs": [
    {
     "data": {
      "text/plain": [
       "Estimated_Insects_Count    1.098665\n",
       "Crop_Type                  1.546968\n",
       "Soil_Type                  0.179422\n",
       "Pesticide_Use_Category     0.089675\n",
       "Number_Doses_Week          0.872028\n",
       "Number_Weeks_Used          0.220343\n",
       "Number_Weeks_Quit          1.191013\n",
       "Season                     0.155872\n",
       "dtype: float64"
      ]
     },
     "execution_count": 54,
     "metadata": {},
     "output_type": "execute_result"
    }
   ],
   "source": [
    "#Checking for skewness\n",
    "test.skew()"
   ]
  },
  {
   "cell_type": "markdown",
   "metadata": {},
   "source": [
    "Here Number_Doses_Week and Number_Weeks_Quit are the non-categorical data with skewness, we will remove ther skewness using Power Transformer"
   ]
  },
  {
   "cell_type": "code",
   "execution_count": 55,
   "metadata": {},
   "outputs": [
    {
     "data": {
      "image/png": "[encoded data removed]",
      "text/plain": [
       "<Figure size 432x288 with 1 Axes>"
      ]
     },
     "metadata": {
      "needs_background": "light"
     },
     "output_type": "display_data"
    },
    {
     "data": {
      "image/png": "[encoded data removed]",
      "text/plain": [
       "<Figure size 432x288 with 1 Axes>"
      ]
     },
     "metadata": {
      "needs_background": "light"
     },
     "output_type": "display_data"
    },
    {
     "data": {
      "image/png": "[encoded data removed]",
      "text/plain": [
       "<Figure size 432x288 with 1 Axes>"
      ]
     },
     "metadata": {
      "needs_background": "light"
     },
     "output_type": "display_data"
    },
    {
     "data": {
      "image/png": "[encoded data removed]",
      "text/plain": [
       "<Figure size 432x288 with 1 Axes>"
      ]
     },
     "metadata": {
      "needs_background": "light"
     },
     "output_type": "display_data"
    },
    {
     "data": {
      "image/png": "[encoded data removed]",
      "text/plain": [
       "<Figure size 432x288 with 1 Axes>"
      ]
     },
     "metadata": {
      "needs_background": "light"
     },
     "output_type": "display_data"
    },
    {
     "data": {
      "image/png": "[encoded data removed]",
      "text/plain": [
       "<Figure size 432x288 with 1 Axes>"
      ]
     },
     "metadata": {
      "needs_background": "light"
     },
     "output_type": "display_data"
    },
    {
     "data": {
      "image/png": "[encoded data removed]",
      "text/plain": [
       "<Figure size 432x288 with 1 Axes>"
      ]
     },
     "metadata": {
      "needs_background": "light"
     },
     "output_type": "display_data"
    },
    {
     "data": {
      "image/png": "[encoded data removed]",
      "text/plain": [
       "<Figure size 432x288 with 1 Axes>"
      ]
     },
     "metadata": {
      "needs_background": "light"
     },
     "output_type": "display_data"
    }
   ],
   "source": [
    "#Checking for outliers\n",
    "for i in test.columns:\n",
    "    sns.boxplot(test[i])\n",
    "    plt.show()"
   ]
  },
  {
   "cell_type": "markdown",
   "metadata": {},
   "source": [
    "Observations:\n",
    "    1. Columns: Estimated_Insects_Count, Number_Doses_week, Number_Weeks_Used, Number_Weeks_Quit have outliers present . We will remove the outliers using zscore."
   ]
  },
  {
   "cell_type": "code",
   "execution_count": 56,
   "metadata": {},
   "outputs": [],
   "source": [
    "#Removing skewness using PowerTransformer\n",
    "tuple=['Estimated_Insects_Count','Number_Doses_Week','Number_Weeks_Quit']\n",
    "for i in tuple:\n",
    "    test[i]=pt.fit_transform(test[i].values.reshape(-1,1))"
   ]
  },
  {
   "cell_type": "code",
   "execution_count": 57,
   "metadata": {},
   "outputs": [
    {
     "data": {
      "text/plain": [
       "Estimated_Insects_Count   -0.016231\n",
       "Crop_Type                  1.546968\n",
       "Soil_Type                  0.179422\n",
       "Pesticide_Use_Category     0.089675\n",
       "Number_Doses_Week         -0.006111\n",
       "Number_Weeks_Used          0.220343\n",
       "Number_Weeks_Quit          0.115384\n",
       "Season                     0.155872\n",
       "dtype: float64"
      ]
     },
     "execution_count": 57,
     "metadata": {},
     "output_type": "execute_result"
    }
   ],
   "source": [
    "test.skew()"
   ]
  },
  {
   "cell_type": "code",
   "execution_count": 58,
   "metadata": {},
   "outputs": [
    {
     "data": {
      "text/plain": [
       "array([[2.25611284e+00, 2.03615391e+00, 1.09360445e+00, ...,\n",
       "        5.85986262e-16, 1.03063387e+00, 1.72804130e-01],\n",
       "       [1.32439628e+00, 2.03615391e+00, 1.09360445e+00, ...,\n",
       "        2.39438582e+00, 1.03063387e+00, 1.72804130e-01],\n",
       "       [7.68063353e-01, 2.03615391e+00, 9.14407397e-01, ...,\n",
       "        2.39438582e+00, 1.03063387e+00, 1.72804130e-01],\n",
       "       ...,\n",
       "       [7.60585503e-02, 4.91122009e-01, 1.09360445e+00, ...,\n",
       "        1.32227276e+00, 1.34448774e+00, 1.28629553e+00],\n",
       "       [1.78537072e-01, 4.91122009e-01, 1.09360445e+00, ...,\n",
       "        4.92072401e-01, 4.46391027e-01, 1.28629553e+00],\n",
       "       [1.78537072e-01, 4.91122009e-01, 1.09360445e+00, ...,\n",
       "        5.85986262e-16, 1.26592298e+00, 1.63190379e+00]])"
      ]
     },
     "execution_count": 58,
     "metadata": {},
     "output_type": "execute_result"
    }
   ],
   "source": [
    "#Removing outliers\n",
    "z1=np.abs(zscore(test))\n",
    "z1"
   ]
  },
  {
   "cell_type": "code",
   "execution_count": 59,
   "metadata": {},
   "outputs": [
    {
     "data": {
      "text/html": [
       "<div>\n",
       "<style scoped>\n",
       "    .dataframe tbody tr th:only-of-type {\n",
       "        vertical-align: middle;\n",
       "    }\n",
       "\n",
       "    .dataframe tbody tr th {\n",
       "        vertical-align: top;\n",
       "    }\n",
       "\n",
       "    .dataframe thead th {\n",
       "        text-align: right;\n",
       "    }\n",
       "</style>\n",
       "<table border=\"1\" class=\"dataframe\">\n",
       "  <thead>\n",
       "    <tr style=\"text-align: right;\">\n",
       "      <th></th>\n",
       "      <th>Estimated_Insects_Count</th>\n",
       "      <th>Crop_Type</th>\n",
       "      <th>Soil_Type</th>\n",
       "      <th>Pesticide_Use_Category</th>\n",
       "      <th>Number_Doses_Week</th>\n",
       "      <th>Number_Weeks_Used</th>\n",
       "      <th>Number_Weeks_Quit</th>\n",
       "      <th>Season</th>\n",
       "    </tr>\n",
       "  </thead>\n",
       "  <tbody>\n",
       "    <tr>\n",
       "      <th>0</th>\n",
       "      <td>-2.256113</td>\n",
       "      <td>1</td>\n",
       "      <td>1</td>\n",
       "      <td>1</td>\n",
       "      <td>-2.642157</td>\n",
       "      <td>29.033333</td>\n",
       "      <td>-1.030634</td>\n",
       "      <td>2</td>\n",
       "    </tr>\n",
       "    <tr>\n",
       "      <th>1</th>\n",
       "      <td>-1.324396</td>\n",
       "      <td>1</td>\n",
       "      <td>1</td>\n",
       "      <td>1</td>\n",
       "      <td>-2.642157</td>\n",
       "      <td>0.000000</td>\n",
       "      <td>-1.030634</td>\n",
       "      <td>2</td>\n",
       "    </tr>\n",
       "    <tr>\n",
       "      <th>2</th>\n",
       "      <td>-0.768063</td>\n",
       "      <td>1</td>\n",
       "      <td>0</td>\n",
       "      <td>1</td>\n",
       "      <td>-2.642157</td>\n",
       "      <td>0.000000</td>\n",
       "      <td>-1.030634</td>\n",
       "      <td>2</td>\n",
       "    </tr>\n",
       "    <tr>\n",
       "      <th>3</th>\n",
       "      <td>-0.554689</td>\n",
       "      <td>1</td>\n",
       "      <td>0</td>\n",
       "      <td>1</td>\n",
       "      <td>-2.642157</td>\n",
       "      <td>0.000000</td>\n",
       "      <td>-1.030634</td>\n",
       "      <td>2</td>\n",
       "    </tr>\n",
       "    <tr>\n",
       "      <th>4</th>\n",
       "      <td>-0.447685</td>\n",
       "      <td>0</td>\n",
       "      <td>0</td>\n",
       "      <td>1</td>\n",
       "      <td>-2.642157</td>\n",
       "      <td>0.000000</td>\n",
       "      <td>-1.030634</td>\n",
       "      <td>1</td>\n",
       "    </tr>\n",
       "    <tr>\n",
       "      <th>...</th>\n",
       "      <td>...</td>\n",
       "      <td>...</td>\n",
       "      <td>...</td>\n",
       "      <td>...</td>\n",
       "      <td>...</td>\n",
       "      <td>...</td>\n",
       "      <td>...</td>\n",
       "      <td>...</td>\n",
       "    </tr>\n",
       "    <tr>\n",
       "      <th>1194</th>\n",
       "      <td>0.076059</td>\n",
       "      <td>0</td>\n",
       "      <td>1</td>\n",
       "      <td>2</td>\n",
       "      <td>0.890910</td>\n",
       "      <td>34.000000</td>\n",
       "      <td>0.648513</td>\n",
       "      <td>3</td>\n",
       "    </tr>\n",
       "    <tr>\n",
       "      <th>1195</th>\n",
       "      <td>0.076059</td>\n",
       "      <td>0</td>\n",
       "      <td>1</td>\n",
       "      <td>2</td>\n",
       "      <td>0.890910</td>\n",
       "      <td>25.000000</td>\n",
       "      <td>0.146202</td>\n",
       "      <td>1</td>\n",
       "    </tr>\n",
       "    <tr>\n",
       "      <th>1196</th>\n",
       "      <td>0.076059</td>\n",
       "      <td>0</td>\n",
       "      <td>1</td>\n",
       "      <td>2</td>\n",
       "      <td>-0.264468</td>\n",
       "      <td>13.000000</td>\n",
       "      <td>1.344488</td>\n",
       "      <td>1</td>\n",
       "    </tr>\n",
       "    <tr>\n",
       "      <th>1197</th>\n",
       "      <td>0.178537</td>\n",
       "      <td>0</td>\n",
       "      <td>1</td>\n",
       "      <td>2</td>\n",
       "      <td>-1.083697</td>\n",
       "      <td>35.000000</td>\n",
       "      <td>0.446391</td>\n",
       "      <td>1</td>\n",
       "    </tr>\n",
       "    <tr>\n",
       "      <th>1198</th>\n",
       "      <td>0.178537</td>\n",
       "      <td>0</td>\n",
       "      <td>1</td>\n",
       "      <td>2</td>\n",
       "      <td>-0.639538</td>\n",
       "      <td>29.033333</td>\n",
       "      <td>1.265923</td>\n",
       "      <td>3</td>\n",
       "    </tr>\n",
       "  </tbody>\n",
       "</table>\n",
       "<p>1199 rows × 8 columns</p>\n",
       "</div>"
      ],
      "text/plain": [
       "      Estimated_Insects_Count  Crop_Type  Soil_Type  Pesticide_Use_Category  \\\n",
       "0                   -2.256113          1          1                       1   \n",
       "1                   -1.324396          1          1                       1   \n",
       "2                   -0.768063          1          0                       1   \n",
       "3                   -0.554689          1          0                       1   \n",
       "4                   -0.447685          0          0                       1   \n",
       "...                       ...        ...        ...                     ...   \n",
       "1194                 0.076059          0          1                       2   \n",
       "1195                 0.076059          0          1                       2   \n",
       "1196                 0.076059          0          1                       2   \n",
       "1197                 0.178537          0          1                       2   \n",
       "1198                 0.178537          0          1                       2   \n",
       "\n",
       "      Number_Doses_Week  Number_Weeks_Used  Number_Weeks_Quit  Season  \n",
       "0             -2.642157          29.033333          -1.030634       2  \n",
       "1             -2.642157           0.000000          -1.030634       2  \n",
       "2             -2.642157           0.000000          -1.030634       2  \n",
       "3             -2.642157           0.000000          -1.030634       2  \n",
       "4             -2.642157           0.000000          -1.030634       1  \n",
       "...                 ...                ...                ...     ...  \n",
       "1194           0.890910          34.000000           0.648513       3  \n",
       "1195           0.890910          25.000000           0.146202       1  \n",
       "1196          -0.264468          13.000000           1.344488       1  \n",
       "1197          -1.083697          35.000000           0.446391       1  \n",
       "1198          -0.639538          29.033333           1.265923       3  \n",
       "\n",
       "[1199 rows x 8 columns]"
      ]
     },
     "execution_count": 59,
     "metadata": {},
     "output_type": "execute_result"
    }
   ],
   "source": [
    "#threshold=3\n",
    "test_new=test[(z1<3).all(axis=1)]\n",
    "test_new"
   ]
  },
  {
   "cell_type": "code",
   "execution_count": 61,
   "metadata": {},
   "outputs": [
    {
     "name": "stdout",
     "output_type": "stream",
     "text": [
      "Shape before removing outliers:  (1199, 8) \tshape after removing outliers:  (1199, 8)\n"
     ]
    }
   ],
   "source": [
    "print('Shape before removing outliers: ',test.shape,'\\tshape after removing outliers: ',test_new.shape)"
   ]
  },
  {
   "cell_type": "code",
   "execution_count": 63,
   "metadata": {},
   "outputs": [],
   "source": [
    "#Using Min-Max Scaler on x_train and x_test\n",
    "from sklearn.preprocessing import MinMaxScaler\n",
    "mns=MinMaxScaler()"
   ]
  },
  {
   "cell_type": "code",
   "execution_count": 66,
   "metadata": {},
   "outputs": [
    {
     "data": {
      "text/html": [
       "<div>\n",
       "<style scoped>\n",
       "    .dataframe tbody tr th:only-of-type {\n",
       "        vertical-align: middle;\n",
       "    }\n",
       "\n",
       "    .dataframe tbody tr th {\n",
       "        vertical-align: top;\n",
       "    }\n",
       "\n",
       "    .dataframe thead th {\n",
       "        text-align: right;\n",
       "    }\n",
       "</style>\n",
       "<table border=\"1\" class=\"dataframe\">\n",
       "  <thead>\n",
       "    <tr style=\"text-align: right;\">\n",
       "      <th></th>\n",
       "      <th>Estimated_Insects_Count</th>\n",
       "      <th>Crop_Type</th>\n",
       "      <th>Soil_Type</th>\n",
       "      <th>Pesticide_Use_Category</th>\n",
       "      <th>Number_Doses_Week</th>\n",
       "      <th>Number_Weeks_Used</th>\n",
       "      <th>Number_Weeks_Quit</th>\n",
       "      <th>Season</th>\n",
       "    </tr>\n",
       "  </thead>\n",
       "  <tbody>\n",
       "    <tr>\n",
       "      <th>0</th>\n",
       "      <td>0.041476</td>\n",
       "      <td>1.0</td>\n",
       "      <td>0.0</td>\n",
       "      <td>0.0</td>\n",
       "      <td>0.000000</td>\n",
       "      <td>0.000000</td>\n",
       "      <td>0.000000</td>\n",
       "      <td>0.0</td>\n",
       "    </tr>\n",
       "    <tr>\n",
       "      <th>1</th>\n",
       "      <td>0.061914</td>\n",
       "      <td>1.0</td>\n",
       "      <td>0.0</td>\n",
       "      <td>0.0</td>\n",
       "      <td>0.000000</td>\n",
       "      <td>0.000000</td>\n",
       "      <td>0.000000</td>\n",
       "      <td>0.5</td>\n",
       "    </tr>\n",
       "    <tr>\n",
       "      <th>2</th>\n",
       "      <td>0.103733</td>\n",
       "      <td>1.0</td>\n",
       "      <td>0.0</td>\n",
       "      <td>0.0</td>\n",
       "      <td>0.000000</td>\n",
       "      <td>0.000000</td>\n",
       "      <td>0.000000</td>\n",
       "      <td>0.5</td>\n",
       "    </tr>\n",
       "    <tr>\n",
       "      <th>3</th>\n",
       "      <td>0.103733</td>\n",
       "      <td>1.0</td>\n",
       "      <td>1.0</td>\n",
       "      <td>0.0</td>\n",
       "      <td>0.000000</td>\n",
       "      <td>0.000000</td>\n",
       "      <td>0.000000</td>\n",
       "      <td>0.5</td>\n",
       "    </tr>\n",
       "    <tr>\n",
       "      <th>4</th>\n",
       "      <td>0.165948</td>\n",
       "      <td>1.0</td>\n",
       "      <td>0.0</td>\n",
       "      <td>0.0</td>\n",
       "      <td>0.000000</td>\n",
       "      <td>0.000000</td>\n",
       "      <td>0.000000</td>\n",
       "      <td>0.5</td>\n",
       "    </tr>\n",
       "    <tr>\n",
       "      <th>...</th>\n",
       "      <td>...</td>\n",
       "      <td>...</td>\n",
       "      <td>...</td>\n",
       "      <td>...</td>\n",
       "      <td>...</td>\n",
       "      <td>...</td>\n",
       "      <td>...</td>\n",
       "      <td>...</td>\n",
       "    </tr>\n",
       "    <tr>\n",
       "      <th>4472</th>\n",
       "      <td>0.719303</td>\n",
       "      <td>0.0</td>\n",
       "      <td>1.0</td>\n",
       "      <td>0.5</td>\n",
       "      <td>0.455355</td>\n",
       "      <td>0.451422</td>\n",
       "      <td>0.143408</td>\n",
       "      <td>0.0</td>\n",
       "    </tr>\n",
       "    <tr>\n",
       "      <th>4473</th>\n",
       "      <td>0.719486</td>\n",
       "      <td>0.0</td>\n",
       "      <td>1.0</td>\n",
       "      <td>0.5</td>\n",
       "      <td>0.568585</td>\n",
       "      <td>0.734375</td>\n",
       "      <td>0.233633</td>\n",
       "      <td>0.0</td>\n",
       "    </tr>\n",
       "    <tr>\n",
       "      <th>4474</th>\n",
       "      <td>0.742431</td>\n",
       "      <td>0.0</td>\n",
       "      <td>1.0</td>\n",
       "      <td>0.5</td>\n",
       "      <td>0.304351</td>\n",
       "      <td>0.109375</td>\n",
       "      <td>0.828101</td>\n",
       "      <td>0.5</td>\n",
       "    </tr>\n",
       "    <tr>\n",
       "      <th>4475</th>\n",
       "      <td>0.742431</td>\n",
       "      <td>0.0</td>\n",
       "      <td>1.0</td>\n",
       "      <td>0.5</td>\n",
       "      <td>0.304351</td>\n",
       "      <td>0.312500</td>\n",
       "      <td>0.793499</td>\n",
       "      <td>0.5</td>\n",
       "    </tr>\n",
       "    <tr>\n",
       "      <th>4476</th>\n",
       "      <td>0.742431</td>\n",
       "      <td>0.0</td>\n",
       "      <td>1.0</td>\n",
       "      <td>0.5</td>\n",
       "      <td>0.304351</td>\n",
       "      <td>0.515625</td>\n",
       "      <td>0.696096</td>\n",
       "      <td>0.5</td>\n",
       "    </tr>\n",
       "  </tbody>\n",
       "</table>\n",
       "<p>4477 rows × 8 columns</p>\n",
       "</div>"
      ],
      "text/plain": [
       "      Estimated_Insects_Count  Crop_Type  Soil_Type  Pesticide_Use_Category  \\\n",
       "0                    0.041476        1.0        0.0                     0.0   \n",
       "1                    0.061914        1.0        0.0                     0.0   \n",
       "2                    0.103733        1.0        0.0                     0.0   \n",
       "3                    0.103733        1.0        1.0                     0.0   \n",
       "4                    0.165948        1.0        0.0                     0.0   \n",
       "...                       ...        ...        ...                     ...   \n",
       "4472                 0.719303        0.0        1.0                     0.5   \n",
       "4473                 0.719486        0.0        1.0                     0.5   \n",
       "4474                 0.742431        0.0        1.0                     0.5   \n",
       "4475                 0.742431        0.0        1.0                     0.5   \n",
       "4476                 0.742431        0.0        1.0                     0.5   \n",
       "\n",
       "      Number_Doses_Week  Number_Weeks_Used  Number_Weeks_Quit  Season  \n",
       "0              0.000000           0.000000           0.000000     0.0  \n",
       "1              0.000000           0.000000           0.000000     0.5  \n",
       "2              0.000000           0.000000           0.000000     0.5  \n",
       "3              0.000000           0.000000           0.000000     0.5  \n",
       "4              0.000000           0.000000           0.000000     0.5  \n",
       "...                 ...                ...                ...     ...  \n",
       "4472           0.455355           0.451422           0.143408     0.0  \n",
       "4473           0.568585           0.734375           0.233633     0.0  \n",
       "4474           0.304351           0.109375           0.828101     0.5  \n",
       "4475           0.304351           0.312500           0.793499     0.5  \n",
       "4476           0.304351           0.515625           0.696096     0.5  \n",
       "\n",
       "[4477 rows x 8 columns]"
      ]
     },
     "execution_count": 66,
     "metadata": {},
     "output_type": "execute_result"
    }
   ],
   "source": [
    "train=mns.fit_transform(x_train)\n",
    "x_train=pd.DataFrame(train,columns=x_train.columns)\n",
    "x_train"
   ]
  },
  {
   "cell_type": "code",
   "execution_count": 68,
   "metadata": {},
   "outputs": [
    {
     "data": {
      "text/html": [
       "<div>\n",
       "<style scoped>\n",
       "    .dataframe tbody tr th:only-of-type {\n",
       "        vertical-align: middle;\n",
       "    }\n",
       "\n",
       "    .dataframe tbody tr th {\n",
       "        vertical-align: top;\n",
       "    }\n",
       "\n",
       "    .dataframe thead th {\n",
       "        text-align: right;\n",
       "    }\n",
       "</style>\n",
       "<table border=\"1\" class=\"dataframe\">\n",
       "  <thead>\n",
       "    <tr style=\"text-align: right;\">\n",
       "      <th></th>\n",
       "      <th>Estimated_Insects_Count</th>\n",
       "      <th>Crop_Type</th>\n",
       "      <th>Soil_Type</th>\n",
       "      <th>Pesticide_Use_Category</th>\n",
       "      <th>Number_Doses_Week</th>\n",
       "      <th>Number_Weeks_Used</th>\n",
       "      <th>Number_Weeks_Quit</th>\n",
       "      <th>Season</th>\n",
       "    </tr>\n",
       "  </thead>\n",
       "  <tbody>\n",
       "    <tr>\n",
       "      <th>0</th>\n",
       "      <td>0.052814</td>\n",
       "      <td>1.0</td>\n",
       "      <td>1.0</td>\n",
       "      <td>0.0</td>\n",
       "      <td>0.000000</td>\n",
       "      <td>0.453646</td>\n",
       "      <td>0.000000</td>\n",
       "      <td>0.5</td>\n",
       "    </tr>\n",
       "    <tr>\n",
       "      <th>1</th>\n",
       "      <td>0.250663</td>\n",
       "      <td>1.0</td>\n",
       "      <td>1.0</td>\n",
       "      <td>0.0</td>\n",
       "      <td>0.000000</td>\n",
       "      <td>0.000000</td>\n",
       "      <td>0.000000</td>\n",
       "      <td>0.5</td>\n",
       "    </tr>\n",
       "    <tr>\n",
       "      <th>2</th>\n",
       "      <td>0.368799</td>\n",
       "      <td>1.0</td>\n",
       "      <td>0.0</td>\n",
       "      <td>0.0</td>\n",
       "      <td>0.000000</td>\n",
       "      <td>0.000000</td>\n",
       "      <td>0.000000</td>\n",
       "      <td>0.5</td>\n",
       "    </tr>\n",
       "    <tr>\n",
       "      <th>3</th>\n",
       "      <td>0.414109</td>\n",
       "      <td>1.0</td>\n",
       "      <td>0.0</td>\n",
       "      <td>0.0</td>\n",
       "      <td>0.000000</td>\n",
       "      <td>0.000000</td>\n",
       "      <td>0.000000</td>\n",
       "      <td>0.5</td>\n",
       "    </tr>\n",
       "    <tr>\n",
       "      <th>4</th>\n",
       "      <td>0.436831</td>\n",
       "      <td>0.0</td>\n",
       "      <td>0.0</td>\n",
       "      <td>0.0</td>\n",
       "      <td>0.000000</td>\n",
       "      <td>0.000000</td>\n",
       "      <td>0.000000</td>\n",
       "      <td>0.0</td>\n",
       "    </tr>\n",
       "    <tr>\n",
       "      <th>...</th>\n",
       "      <td>...</td>\n",
       "      <td>...</td>\n",
       "      <td>...</td>\n",
       "      <td>...</td>\n",
       "      <td>...</td>\n",
       "      <td>...</td>\n",
       "      <td>...</td>\n",
       "      <td>...</td>\n",
       "    </tr>\n",
       "    <tr>\n",
       "      <th>1194</th>\n",
       "      <td>0.548047</td>\n",
       "      <td>0.0</td>\n",
       "      <td>1.0</td>\n",
       "      <td>0.5</td>\n",
       "      <td>0.644685</td>\n",
       "      <td>0.531250</td>\n",
       "      <td>0.621845</td>\n",
       "      <td>1.0</td>\n",
       "    </tr>\n",
       "    <tr>\n",
       "      <th>1195</th>\n",
       "      <td>0.548047</td>\n",
       "      <td>0.0</td>\n",
       "      <td>1.0</td>\n",
       "      <td>0.5</td>\n",
       "      <td>0.644685</td>\n",
       "      <td>0.390625</td>\n",
       "      <td>0.435822</td>\n",
       "      <td>0.0</td>\n",
       "    </tr>\n",
       "    <tr>\n",
       "      <th>1196</th>\n",
       "      <td>0.548047</td>\n",
       "      <td>0.0</td>\n",
       "      <td>1.0</td>\n",
       "      <td>0.5</td>\n",
       "      <td>0.433861</td>\n",
       "      <td>0.203125</td>\n",
       "      <td>0.879588</td>\n",
       "      <td>0.0</td>\n",
       "    </tr>\n",
       "    <tr>\n",
       "      <th>1197</th>\n",
       "      <td>0.569808</td>\n",
       "      <td>0.0</td>\n",
       "      <td>1.0</td>\n",
       "      <td>0.5</td>\n",
       "      <td>0.284375</td>\n",
       "      <td>0.546875</td>\n",
       "      <td>0.546992</td>\n",
       "      <td>0.0</td>\n",
       "    </tr>\n",
       "    <tr>\n",
       "      <th>1198</th>\n",
       "      <td>0.569808</td>\n",
       "      <td>0.0</td>\n",
       "      <td>1.0</td>\n",
       "      <td>0.5</td>\n",
       "      <td>0.365421</td>\n",
       "      <td>0.453646</td>\n",
       "      <td>0.850493</td>\n",
       "      <td>1.0</td>\n",
       "    </tr>\n",
       "  </tbody>\n",
       "</table>\n",
       "<p>1199 rows × 8 columns</p>\n",
       "</div>"
      ],
      "text/plain": [
       "      Estimated_Insects_Count  Crop_Type  Soil_Type  Pesticide_Use_Category  \\\n",
       "0                    0.052814        1.0        1.0                     0.0   \n",
       "1                    0.250663        1.0        1.0                     0.0   \n",
       "2                    0.368799        1.0        0.0                     0.0   \n",
       "3                    0.414109        1.0        0.0                     0.0   \n",
       "4                    0.436831        0.0        0.0                     0.0   \n",
       "...                       ...        ...        ...                     ...   \n",
       "1194                 0.548047        0.0        1.0                     0.5   \n",
       "1195                 0.548047        0.0        1.0                     0.5   \n",
       "1196                 0.548047        0.0        1.0                     0.5   \n",
       "1197                 0.569808        0.0        1.0                     0.5   \n",
       "1198                 0.569808        0.0        1.0                     0.5   \n",
       "\n",
       "      Number_Doses_Week  Number_Weeks_Used  Number_Weeks_Quit  Season  \n",
       "0              0.000000           0.453646           0.000000     0.5  \n",
       "1              0.000000           0.000000           0.000000     0.5  \n",
       "2              0.000000           0.000000           0.000000     0.5  \n",
       "3              0.000000           0.000000           0.000000     0.5  \n",
       "4              0.000000           0.000000           0.000000     0.0  \n",
       "...                 ...                ...                ...     ...  \n",
       "1194           0.644685           0.531250           0.621845     1.0  \n",
       "1195           0.644685           0.390625           0.435822     0.0  \n",
       "1196           0.433861           0.203125           0.879588     0.0  \n",
       "1197           0.284375           0.546875           0.546992     0.0  \n",
       "1198           0.365421           0.453646           0.850493     1.0  \n",
       "\n",
       "[1199 rows x 8 columns]"
      ]
     },
     "execution_count": 68,
     "metadata": {},
     "output_type": "execute_result"
    }
   ],
   "source": [
    "#x_test after saling the data using Min Max Scaler\n",
    "scale_test=mns.fit_transform(test_new)\n",
    "x_test=pd.DataFrame(scale_test,columns=test_new.columns)\n",
    "x_test"
   ]
  },
  {
   "cell_type": "code",
   "execution_count": 69,
   "metadata": {},
   "outputs": [
    {
     "data": {
      "text/plain": [
       "(4477, 8)"
      ]
     },
     "execution_count": 69,
     "metadata": {},
     "output_type": "execute_result"
    }
   ],
   "source": [
    "x_train.shape"
   ]
  },
  {
   "cell_type": "code",
   "execution_count": 72,
   "metadata": {},
   "outputs": [
    {
     "data": {
      "text/plain": [
       "Estimated_Insects_Count   -0.031759\n",
       "Crop_Type                  1.319581\n",
       "Soil_Type                  0.085431\n",
       "Pesticide_Use_Category     0.745166\n",
       "Number_Doses_Week          0.025111\n",
       "Number_Weeks_Used          0.269942\n",
       "Number_Weeks_Quit         -0.120820\n",
       "Season                     0.142374\n",
       "dtype: float64"
      ]
     },
     "execution_count": 72,
     "metadata": {},
     "output_type": "execute_result"
    }
   ],
   "source": [
    "x_train.skew()"
   ]
  },
  {
   "cell_type": "code",
   "execution_count": 70,
   "metadata": {},
   "outputs": [
    {
     "data": {
      "text/plain": [
       "(4477,)"
      ]
     },
     "execution_count": 70,
     "metadata": {},
     "output_type": "execute_result"
    }
   ],
   "source": [
    "y_train.shape"
   ]
  },
  {
   "cell_type": "code",
   "execution_count": 71,
   "metadata": {},
   "outputs": [
    {
     "data": {
      "text/plain": [
       "(1199, 8)"
      ]
     },
     "execution_count": 71,
     "metadata": {},
     "output_type": "execute_result"
    }
   ],
   "source": [
    "x_test.shape"
   ]
  },
  {
   "cell_type": "code",
   "execution_count": 73,
   "metadata": {},
   "outputs": [
    {
     "data": {
      "text/plain": [
       "Estimated_Insects_Count   -0.016231\n",
       "Crop_Type                  1.546968\n",
       "Soil_Type                  0.179422\n",
       "Pesticide_Use_Category     0.089675\n",
       "Number_Doses_Week         -0.006111\n",
       "Number_Weeks_Used          0.220343\n",
       "Number_Weeks_Quit          0.115384\n",
       "Season                     0.155872\n",
       "dtype: float64"
      ]
     },
     "execution_count": 73,
     "metadata": {},
     "output_type": "execute_result"
    }
   ],
   "source": [
    "x_test.skew()"
   ]
  },
  {
   "cell_type": "code",
   "execution_count": 74,
   "metadata": {},
   "outputs": [
    {
     "name": "stdout",
     "output_type": "stream",
     "text": [
      "For the algorithm:  MultinomialNB()\n",
      "Score is  0.852356488720125\n",
      "************************************************************************\n",
      "For the algorithm:  SVC()\n",
      "Score is  0.8586106767924949\n",
      "************************************************************************\n",
      "For the algorithm:  DecisionTreeClassifier()\n",
      "Score is  0.9986598168416351\n",
      "************************************************************************\n",
      "For the algorithm:  KNeighborsClassifier()\n",
      "Score is  0.8740227831136922\n",
      "************************************************************************\n"
     ]
    }
   ],
   "source": [
    "#Modelling the data\n",
    "from sklearn.model_selection import train_test_split\n",
    "from sklearn.naive_bayes import MultinomialNB\n",
    "from sklearn.svm import SVC\n",
    "from sklearn.tree import DecisionTreeClassifier\n",
    "from sklearn.neighbors import KNeighborsClassifier\n",
    "from sklearn.metrics import accuracy_score,confusion_matrix,classification_report\n",
    "list=[MultinomialNB(),SVC(),DecisionTreeClassifier(),KNeighborsClassifier()]\n",
    "for j in list:\n",
    "    print('For the algorithm: ',j)\n",
    "    j.fit(x_train,y_train)\n",
    "    pred=j.predict(x_test)\n",
    "    print('Score is ',j.score(x_train,y_train))\n",
    "    print(\"************************************************************************\")  "
   ]
  },
  {
   "cell_type": "code",
   "execution_count": 77,
   "metadata": {},
   "outputs": [
    {
     "name": "stdout",
     "output_type": "stream",
     "text": [
      "Score of RandomForestClassifier() is: 0.9986598168416351\n",
      "Score of AdaBoostClassifier() is: 0.8574938574938575\n",
      "Score of GradientBoostingClassifier() is: 0.8702255974983247\n",
      "Score of BaggingClassifier() is: 0.9778869778869779\n"
     ]
    }
   ],
   "source": [
    "# Using ensemble techniques to boost up our score\n",
    "from sklearn.ensemble import RandomForestClassifier\n",
    "from sklearn.ensemble import AdaBoostClassifier\n",
    "from sklearn.ensemble import GradientBoostingClassifier\n",
    "from sklearn.ensemble import BaggingClassifier\n",
    "list=[RandomForestClassifier(),AdaBoostClassifier(),GradientBoostingClassifier(),BaggingClassifier()]\n",
    "for m in list:\n",
    "    m.fit(x_train,y_train)\n",
    "    score=m.score(x_train,y_train)\n",
    "    predict=m.predict(x_test)\n",
    "    print('Score of',m,\"is:\",score)"
   ]
  },
  {
   "cell_type": "markdown",
   "metadata": {},
   "source": [
    "We can observe that random forest and Decision tree classfier both are performing above 0.99. We will proceed ahead with random forest classifier as it doesnt over fit the data easily. So our model is not biased."
   ]
  },
  {
   "cell_type": "code",
   "execution_count": 79,
   "metadata": {},
   "outputs": [
    {
     "name": "stdout",
     "output_type": "stream",
     "text": [
      "{'criterion': 'gini', 'random_state': 44}\n"
     ]
    }
   ],
   "source": [
    "#Searching for the best parameters for Random Forest Classifier\n",
    "#GridSearchCV\n",
    "from sklearn.model_selection import GridSearchCV\n",
    "rnc=RandomForestClassifier()\n",
    "parameters={ 'random_state': range(33,55),\n",
    "           'criterion':['gini','entropy']\n",
    "           }\n",
    "cv=GridSearchCV(rnc,parameters)\n",
    "cv.fit(x_train,y_train)\n",
    "print(cv.best_params_)"
   ]
  },
  {
   "cell_type": "code",
   "execution_count": 80,
   "metadata": {},
   "outputs": [
    {
     "name": "stdout",
     "output_type": "stream",
     "text": [
      "Score: 0.9986598168416351\n",
      "Result of prediction: [1 1 1 ... 0 0 0]\n"
     ]
    }
   ],
   "source": [
    "#Working with the best paramteres\n",
    "rnc=RandomForestClassifier(random_state=44,criterion='gini')\n",
    "rnc.fit(x_train,y_train)\n",
    "print('Score:',rnc.score(x_train,y_train))\n",
    "print('Result of prediction:',rnc.predict(x_test))"
   ]
  },
  {
   "cell_type": "code",
   "execution_count": 83,
   "metadata": {},
   "outputs": [
    {
     "name": "stdout",
     "output_type": "stream",
     "text": [
      "The cross validation score is:  [0.82142857 0.84040179 0.84804469 0.83463687 0.84469274]\n",
      "The mean and standard deviations are:  0.8378409317637671 0.009351508175113921\n"
     ]
    }
   ],
   "source": [
    "#Applying cross val score to check the under fitting and over fitting of the data\n",
    "from sklearn.model_selection import cross_val_score\n",
    "cv=cross_val_score(rnc,x_train,y_train,cv=5)\n",
    "print('The cross validation score is: ',cv)\n",
    "print('The mean and standard deviations are: ',cv.mean(),cv.std())"
   ]
  },
  {
   "cell_type": "code",
   "execution_count": 84,
   "metadata": {},
   "outputs": [
    {
     "data": {
      "text/plain": [
       "['agricluture.pkl']"
      ]
     },
     "execution_count": 84,
     "metadata": {},
     "output_type": "execute_result"
    }
   ],
   "source": [
    "#Saving the best model Random Forest Classifier with best parameters.\n",
    "import joblib\n",
    "joblib.dump(rnc,'agricluture.pkl')"
   ]
  },
  {
   "cell_type": "code",
   "execution_count": null,
   "metadata": {},
   "outputs": [],
   "source": []
  }
 ],
 "metadata": {
  "kernelspec": {
   "display_name": "Python 3",
   "language": "python",
   "name": "python3"
  },
  "language_info": {
   "codemirror_mode": {
    "name": "ipython",
    "version": 3
   },
   "file_extension": ".py",
   "mimetype": "text/x-python",
   "name": "python",
   "nbconvert_exporter": "python",
   "pygments_lexer": "ipython3",
   "version": "3.8.3"
  }
 },
 "nbformat": 4,
 "nbformat_minor": 4
}
